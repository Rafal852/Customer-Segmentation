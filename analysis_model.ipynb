{
 "cells": [
  {
   "cell_type": "code",
   "execution_count": 1,
   "id": "08b55c91",
   "metadata": {},
   "outputs": [],
   "source": [
    "import pandas as pd\n",
    "import numpy as np\n",
    "import matplotlib.pyplot as plt\n",
    "import seaborn as sns"
   ]
  },
  {
   "cell_type": "code",
   "execution_count": 2,
   "id": "c5b7ebcb",
   "metadata": {},
   "outputs": [],
   "source": [
    "df = pd.read_csv('customer_segmentation.csv')"
   ]
  },
  {
   "cell_type": "code",
   "execution_count": 3,
   "id": "81184a7e",
   "metadata": {},
   "outputs": [
    {
     "data": {
      "application/vnd.microsoft.datawrangler.viewer.v0+json": {
       "columns": [
        {
         "name": "index",
         "rawType": "int64",
         "type": "integer"
        },
        {
         "name": "ID",
         "rawType": "int64",
         "type": "integer"
        },
        {
         "name": "Year_Birth",
         "rawType": "int64",
         "type": "integer"
        },
        {
         "name": "Education",
         "rawType": "object",
         "type": "string"
        },
        {
         "name": "Marital_Status",
         "rawType": "object",
         "type": "string"
        },
        {
         "name": "Income",
         "rawType": "float64",
         "type": "float"
        },
        {
         "name": "Kidhome",
         "rawType": "int64",
         "type": "integer"
        },
        {
         "name": "Teenhome",
         "rawType": "int64",
         "type": "integer"
        },
        {
         "name": "Dt_Customer",
         "rawType": "object",
         "type": "string"
        },
        {
         "name": "Recency",
         "rawType": "int64",
         "type": "integer"
        },
        {
         "name": "MntWines",
         "rawType": "int64",
         "type": "integer"
        },
        {
         "name": "MntFruits",
         "rawType": "int64",
         "type": "integer"
        },
        {
         "name": "MntMeatProducts",
         "rawType": "int64",
         "type": "integer"
        },
        {
         "name": "MntFishProducts",
         "rawType": "int64",
         "type": "integer"
        },
        {
         "name": "MntSweetProducts",
         "rawType": "int64",
         "type": "integer"
        },
        {
         "name": "MntGoldProds",
         "rawType": "int64",
         "type": "integer"
        },
        {
         "name": "NumDealsPurchases",
         "rawType": "int64",
         "type": "integer"
        },
        {
         "name": "NumWebPurchases",
         "rawType": "int64",
         "type": "integer"
        },
        {
         "name": "NumCatalogPurchases",
         "rawType": "int64",
         "type": "integer"
        },
        {
         "name": "NumStorePurchases",
         "rawType": "int64",
         "type": "integer"
        },
        {
         "name": "NumWebVisitsMonth",
         "rawType": "int64",
         "type": "integer"
        },
        {
         "name": "AcceptedCmp3",
         "rawType": "int64",
         "type": "integer"
        },
        {
         "name": "AcceptedCmp4",
         "rawType": "int64",
         "type": "integer"
        },
        {
         "name": "AcceptedCmp5",
         "rawType": "int64",
         "type": "integer"
        },
        {
         "name": "AcceptedCmp1",
         "rawType": "int64",
         "type": "integer"
        },
        {
         "name": "AcceptedCmp2",
         "rawType": "int64",
         "type": "integer"
        },
        {
         "name": "Complain",
         "rawType": "int64",
         "type": "integer"
        },
        {
         "name": "Z_CostContact",
         "rawType": "int64",
         "type": "integer"
        },
        {
         "name": "Z_Revenue",
         "rawType": "int64",
         "type": "integer"
        },
        {
         "name": "Response",
         "rawType": "int64",
         "type": "integer"
        }
       ],
       "ref": "8f5e4478-63a6-4531-a89c-35632106560f",
       "rows": [
        [
         "0",
         "5524",
         "1957",
         "Graduation",
         "Single",
         "58138.0",
         "0",
         "0",
         "04-09-2012",
         "58",
         "635",
         "88",
         "546",
         "172",
         "88",
         "88",
         "3",
         "8",
         "10",
         "4",
         "7",
         "0",
         "0",
         "0",
         "0",
         "0",
         "0",
         "3",
         "11",
         "1"
        ],
        [
         "1",
         "2174",
         "1954",
         "Graduation",
         "Single",
         "46344.0",
         "1",
         "1",
         "08-03-2014",
         "38",
         "11",
         "1",
         "6",
         "2",
         "1",
         "6",
         "2",
         "1",
         "1",
         "2",
         "5",
         "0",
         "0",
         "0",
         "0",
         "0",
         "0",
         "3",
         "11",
         "0"
        ],
        [
         "2",
         "4141",
         "1965",
         "Graduation",
         "Together",
         "71613.0",
         "0",
         "0",
         "21-08-2013",
         "26",
         "426",
         "49",
         "127",
         "111",
         "21",
         "42",
         "1",
         "8",
         "2",
         "10",
         "4",
         "0",
         "0",
         "0",
         "0",
         "0",
         "0",
         "3",
         "11",
         "0"
        ],
        [
         "3",
         "6182",
         "1984",
         "Graduation",
         "Together",
         "26646.0",
         "1",
         "0",
         "10-02-2014",
         "26",
         "11",
         "4",
         "20",
         "10",
         "3",
         "5",
         "2",
         "2",
         "0",
         "4",
         "6",
         "0",
         "0",
         "0",
         "0",
         "0",
         "0",
         "3",
         "11",
         "0"
        ],
        [
         "4",
         "5324",
         "1981",
         "PhD",
         "Married",
         "58293.0",
         "1",
         "0",
         "19-01-2014",
         "94",
         "173",
         "43",
         "118",
         "46",
         "27",
         "15",
         "5",
         "5",
         "3",
         "6",
         "5",
         "0",
         "0",
         "0",
         "0",
         "0",
         "0",
         "3",
         "11",
         "0"
        ]
       ],
       "shape": {
        "columns": 29,
        "rows": 5
       }
      },
      "text/html": [
       "<div>\n",
       "<style scoped>\n",
       "    .dataframe tbody tr th:only-of-type {\n",
       "        vertical-align: middle;\n",
       "    }\n",
       "\n",
       "    .dataframe tbody tr th {\n",
       "        vertical-align: top;\n",
       "    }\n",
       "\n",
       "    .dataframe thead th {\n",
       "        text-align: right;\n",
       "    }\n",
       "</style>\n",
       "<table border=\"1\" class=\"dataframe\">\n",
       "  <thead>\n",
       "    <tr style=\"text-align: right;\">\n",
       "      <th></th>\n",
       "      <th>ID</th>\n",
       "      <th>Year_Birth</th>\n",
       "      <th>Education</th>\n",
       "      <th>Marital_Status</th>\n",
       "      <th>Income</th>\n",
       "      <th>Kidhome</th>\n",
       "      <th>Teenhome</th>\n",
       "      <th>Dt_Customer</th>\n",
       "      <th>Recency</th>\n",
       "      <th>MntWines</th>\n",
       "      <th>...</th>\n",
       "      <th>NumWebVisitsMonth</th>\n",
       "      <th>AcceptedCmp3</th>\n",
       "      <th>AcceptedCmp4</th>\n",
       "      <th>AcceptedCmp5</th>\n",
       "      <th>AcceptedCmp1</th>\n",
       "      <th>AcceptedCmp2</th>\n",
       "      <th>Complain</th>\n",
       "      <th>Z_CostContact</th>\n",
       "      <th>Z_Revenue</th>\n",
       "      <th>Response</th>\n",
       "    </tr>\n",
       "  </thead>\n",
       "  <tbody>\n",
       "    <tr>\n",
       "      <th>0</th>\n",
       "      <td>5524</td>\n",
       "      <td>1957</td>\n",
       "      <td>Graduation</td>\n",
       "      <td>Single</td>\n",
       "      <td>58138.0</td>\n",
       "      <td>0</td>\n",
       "      <td>0</td>\n",
       "      <td>04-09-2012</td>\n",
       "      <td>58</td>\n",
       "      <td>635</td>\n",
       "      <td>...</td>\n",
       "      <td>7</td>\n",
       "      <td>0</td>\n",
       "      <td>0</td>\n",
       "      <td>0</td>\n",
       "      <td>0</td>\n",
       "      <td>0</td>\n",
       "      <td>0</td>\n",
       "      <td>3</td>\n",
       "      <td>11</td>\n",
       "      <td>1</td>\n",
       "    </tr>\n",
       "    <tr>\n",
       "      <th>1</th>\n",
       "      <td>2174</td>\n",
       "      <td>1954</td>\n",
       "      <td>Graduation</td>\n",
       "      <td>Single</td>\n",
       "      <td>46344.0</td>\n",
       "      <td>1</td>\n",
       "      <td>1</td>\n",
       "      <td>08-03-2014</td>\n",
       "      <td>38</td>\n",
       "      <td>11</td>\n",
       "      <td>...</td>\n",
       "      <td>5</td>\n",
       "      <td>0</td>\n",
       "      <td>0</td>\n",
       "      <td>0</td>\n",
       "      <td>0</td>\n",
       "      <td>0</td>\n",
       "      <td>0</td>\n",
       "      <td>3</td>\n",
       "      <td>11</td>\n",
       "      <td>0</td>\n",
       "    </tr>\n",
       "    <tr>\n",
       "      <th>2</th>\n",
       "      <td>4141</td>\n",
       "      <td>1965</td>\n",
       "      <td>Graduation</td>\n",
       "      <td>Together</td>\n",
       "      <td>71613.0</td>\n",
       "      <td>0</td>\n",
       "      <td>0</td>\n",
       "      <td>21-08-2013</td>\n",
       "      <td>26</td>\n",
       "      <td>426</td>\n",
       "      <td>...</td>\n",
       "      <td>4</td>\n",
       "      <td>0</td>\n",
       "      <td>0</td>\n",
       "      <td>0</td>\n",
       "      <td>0</td>\n",
       "      <td>0</td>\n",
       "      <td>0</td>\n",
       "      <td>3</td>\n",
       "      <td>11</td>\n",
       "      <td>0</td>\n",
       "    </tr>\n",
       "    <tr>\n",
       "      <th>3</th>\n",
       "      <td>6182</td>\n",
       "      <td>1984</td>\n",
       "      <td>Graduation</td>\n",
       "      <td>Together</td>\n",
       "      <td>26646.0</td>\n",
       "      <td>1</td>\n",
       "      <td>0</td>\n",
       "      <td>10-02-2014</td>\n",
       "      <td>26</td>\n",
       "      <td>11</td>\n",
       "      <td>...</td>\n",
       "      <td>6</td>\n",
       "      <td>0</td>\n",
       "      <td>0</td>\n",
       "      <td>0</td>\n",
       "      <td>0</td>\n",
       "      <td>0</td>\n",
       "      <td>0</td>\n",
       "      <td>3</td>\n",
       "      <td>11</td>\n",
       "      <td>0</td>\n",
       "    </tr>\n",
       "    <tr>\n",
       "      <th>4</th>\n",
       "      <td>5324</td>\n",
       "      <td>1981</td>\n",
       "      <td>PhD</td>\n",
       "      <td>Married</td>\n",
       "      <td>58293.0</td>\n",
       "      <td>1</td>\n",
       "      <td>0</td>\n",
       "      <td>19-01-2014</td>\n",
       "      <td>94</td>\n",
       "      <td>173</td>\n",
       "      <td>...</td>\n",
       "      <td>5</td>\n",
       "      <td>0</td>\n",
       "      <td>0</td>\n",
       "      <td>0</td>\n",
       "      <td>0</td>\n",
       "      <td>0</td>\n",
       "      <td>0</td>\n",
       "      <td>3</td>\n",
       "      <td>11</td>\n",
       "      <td>0</td>\n",
       "    </tr>\n",
       "  </tbody>\n",
       "</table>\n",
       "<p>5 rows × 29 columns</p>\n",
       "</div>"
      ],
      "text/plain": [
       "     ID  Year_Birth   Education Marital_Status   Income  Kidhome  Teenhome  \\\n",
       "0  5524        1957  Graduation         Single  58138.0        0         0   \n",
       "1  2174        1954  Graduation         Single  46344.0        1         1   \n",
       "2  4141        1965  Graduation       Together  71613.0        0         0   \n",
       "3  6182        1984  Graduation       Together  26646.0        1         0   \n",
       "4  5324        1981         PhD        Married  58293.0        1         0   \n",
       "\n",
       "  Dt_Customer  Recency  MntWines  ...  NumWebVisitsMonth  AcceptedCmp3  \\\n",
       "0  04-09-2012       58       635  ...                  7             0   \n",
       "1  08-03-2014       38        11  ...                  5             0   \n",
       "2  21-08-2013       26       426  ...                  4             0   \n",
       "3  10-02-2014       26        11  ...                  6             0   \n",
       "4  19-01-2014       94       173  ...                  5             0   \n",
       "\n",
       "   AcceptedCmp4  AcceptedCmp5  AcceptedCmp1  AcceptedCmp2  Complain  \\\n",
       "0             0             0             0             0         0   \n",
       "1             0             0             0             0         0   \n",
       "2             0             0             0             0         0   \n",
       "3             0             0             0             0         0   \n",
       "4             0             0             0             0         0   \n",
       "\n",
       "   Z_CostContact  Z_Revenue  Response  \n",
       "0              3         11         1  \n",
       "1              3         11         0  \n",
       "2              3         11         0  \n",
       "3              3         11         0  \n",
       "4              3         11         0  \n",
       "\n",
       "[5 rows x 29 columns]"
      ]
     },
     "execution_count": 3,
     "metadata": {},
     "output_type": "execute_result"
    }
   ],
   "source": [
    "df.head()"
   ]
  },
  {
   "cell_type": "code",
   "execution_count": 4,
   "id": "d8bfd908",
   "metadata": {},
   "outputs": [
    {
     "data": {
      "text/plain": [
       "Index(['ID', 'Year_Birth', 'Education', 'Marital_Status', 'Income', 'Kidhome',\n",
       "       'Teenhome', 'Dt_Customer', 'Recency', 'MntWines', 'MntFruits',\n",
       "       'MntMeatProducts', 'MntFishProducts', 'MntSweetProducts',\n",
       "       'MntGoldProds', 'NumDealsPurchases', 'NumWebPurchases',\n",
       "       'NumCatalogPurchases', 'NumStorePurchases', 'NumWebVisitsMonth',\n",
       "       'AcceptedCmp3', 'AcceptedCmp4', 'AcceptedCmp5', 'AcceptedCmp1',\n",
       "       'AcceptedCmp2', 'Complain', 'Z_CostContact', 'Z_Revenue', 'Response'],\n",
       "      dtype='object')"
      ]
     },
     "execution_count": 4,
     "metadata": {},
     "output_type": "execute_result"
    }
   ],
   "source": [
    "df.columns"
   ]
  },
  {
   "cell_type": "code",
   "execution_count": 5,
   "id": "0bd51f49",
   "metadata": {},
   "outputs": [
    {
     "data": {
      "text/plain": [
       "(2240, 29)"
      ]
     },
     "execution_count": 5,
     "metadata": {},
     "output_type": "execute_result"
    }
   ],
   "source": [
    "df.shape"
   ]
  },
  {
   "cell_type": "code",
   "execution_count": 6,
   "id": "baa6b4c1",
   "metadata": {},
   "outputs": [
    {
     "name": "stdout",
     "output_type": "stream",
     "text": [
      "<class 'pandas.core.frame.DataFrame'>\n",
      "RangeIndex: 2240 entries, 0 to 2239\n",
      "Data columns (total 29 columns):\n",
      " #   Column               Non-Null Count  Dtype  \n",
      "---  ------               --------------  -----  \n",
      " 0   ID                   2240 non-null   int64  \n",
      " 1   Year_Birth           2240 non-null   int64  \n",
      " 2   Education            2240 non-null   object \n",
      " 3   Marital_Status       2240 non-null   object \n",
      " 4   Income               2216 non-null   float64\n",
      " 5   Kidhome              2240 non-null   int64  \n",
      " 6   Teenhome             2240 non-null   int64  \n",
      " 7   Dt_Customer          2240 non-null   object \n",
      " 8   Recency              2240 non-null   int64  \n",
      " 9   MntWines             2240 non-null   int64  \n",
      " 10  MntFruits            2240 non-null   int64  \n",
      " 11  MntMeatProducts      2240 non-null   int64  \n",
      " 12  MntFishProducts      2240 non-null   int64  \n",
      " 13  MntSweetProducts     2240 non-null   int64  \n",
      " 14  MntGoldProds         2240 non-null   int64  \n",
      " 15  NumDealsPurchases    2240 non-null   int64  \n",
      " 16  NumWebPurchases      2240 non-null   int64  \n",
      " 17  NumCatalogPurchases  2240 non-null   int64  \n",
      " 18  NumStorePurchases    2240 non-null   int64  \n",
      " 19  NumWebVisitsMonth    2240 non-null   int64  \n",
      " 20  AcceptedCmp3         2240 non-null   int64  \n",
      " 21  AcceptedCmp4         2240 non-null   int64  \n",
      " 22  AcceptedCmp5         2240 non-null   int64  \n",
      " 23  AcceptedCmp1         2240 non-null   int64  \n",
      " 24  AcceptedCmp2         2240 non-null   int64  \n",
      " 25  Complain             2240 non-null   int64  \n",
      " 26  Z_CostContact        2240 non-null   int64  \n",
      " 27  Z_Revenue            2240 non-null   int64  \n",
      " 28  Response             2240 non-null   int64  \n",
      "dtypes: float64(1), int64(25), object(3)\n",
      "memory usage: 507.6+ KB\n"
     ]
    }
   ],
   "source": [
    "df.info()"
   ]
  },
  {
   "cell_type": "code",
   "execution_count": 8,
   "id": "e97246af",
   "metadata": {},
   "outputs": [
    {
     "data": {
      "application/vnd.microsoft.datawrangler.viewer.v0+json": {
       "columns": [
        {
         "name": "index",
         "rawType": "object",
         "type": "string"
        },
        {
         "name": "0",
         "rawType": "int64",
         "type": "integer"
        }
       ],
       "ref": "95ebc03f-1b86-4c56-b7e4-ad8a7a3ab398",
       "rows": [
        [
         "ID",
         "0"
        ],
        [
         "Year_Birth",
         "0"
        ],
        [
         "Education",
         "0"
        ],
        [
         "Marital_Status",
         "0"
        ],
        [
         "Income",
         "24"
        ],
        [
         "Kidhome",
         "0"
        ],
        [
         "Teenhome",
         "0"
        ],
        [
         "Dt_Customer",
         "0"
        ],
        [
         "Recency",
         "0"
        ],
        [
         "MntWines",
         "0"
        ],
        [
         "MntFruits",
         "0"
        ],
        [
         "MntMeatProducts",
         "0"
        ],
        [
         "MntFishProducts",
         "0"
        ],
        [
         "MntSweetProducts",
         "0"
        ],
        [
         "MntGoldProds",
         "0"
        ],
        [
         "NumDealsPurchases",
         "0"
        ],
        [
         "NumWebPurchases",
         "0"
        ],
        [
         "NumCatalogPurchases",
         "0"
        ],
        [
         "NumStorePurchases",
         "0"
        ],
        [
         "NumWebVisitsMonth",
         "0"
        ],
        [
         "AcceptedCmp3",
         "0"
        ],
        [
         "AcceptedCmp4",
         "0"
        ],
        [
         "AcceptedCmp5",
         "0"
        ],
        [
         "AcceptedCmp1",
         "0"
        ],
        [
         "AcceptedCmp2",
         "0"
        ],
        [
         "Complain",
         "0"
        ],
        [
         "Z_CostContact",
         "0"
        ],
        [
         "Z_Revenue",
         "0"
        ],
        [
         "Response",
         "0"
        ]
       ],
       "shape": {
        "columns": 1,
        "rows": 29
       }
      },
      "text/plain": [
       "ID                      0\n",
       "Year_Birth              0\n",
       "Education               0\n",
       "Marital_Status          0\n",
       "Income                 24\n",
       "Kidhome                 0\n",
       "Teenhome                0\n",
       "Dt_Customer             0\n",
       "Recency                 0\n",
       "MntWines                0\n",
       "MntFruits               0\n",
       "MntMeatProducts         0\n",
       "MntFishProducts         0\n",
       "MntSweetProducts        0\n",
       "MntGoldProds            0\n",
       "NumDealsPurchases       0\n",
       "NumWebPurchases         0\n",
       "NumCatalogPurchases     0\n",
       "NumStorePurchases       0\n",
       "NumWebVisitsMonth       0\n",
       "AcceptedCmp3            0\n",
       "AcceptedCmp4            0\n",
       "AcceptedCmp5            0\n",
       "AcceptedCmp1            0\n",
       "AcceptedCmp2            0\n",
       "Complain                0\n",
       "Z_CostContact           0\n",
       "Z_Revenue               0\n",
       "Response                0\n",
       "dtype: int64"
      ]
     },
     "execution_count": 8,
     "metadata": {},
     "output_type": "execute_result"
    }
   ],
   "source": [
    "df.isna().sum()"
   ]
  },
  {
   "cell_type": "code",
   "execution_count": 10,
   "id": "e2be2cc9",
   "metadata": {},
   "outputs": [],
   "source": [
    "df.dropna(inplace=True)"
   ]
  },
  {
   "cell_type": "code",
   "execution_count": 12,
   "id": "b5fca4ce",
   "metadata": {},
   "outputs": [
    {
     "data": {
      "text/plain": [
       "0"
      ]
     },
     "execution_count": 12,
     "metadata": {},
     "output_type": "execute_result"
    }
   ],
   "source": [
    "df.isna().sum().sum()"
   ]
  },
  {
   "cell_type": "code",
   "execution_count": 13,
   "id": "1656886d",
   "metadata": {},
   "outputs": [
    {
     "data": {
      "application/vnd.microsoft.datawrangler.viewer.v0+json": {
       "columns": [
        {
         "name": "index",
         "rawType": "object",
         "type": "string"
        },
        {
         "name": "ID",
         "rawType": "float64",
         "type": "float"
        },
        {
         "name": "Year_Birth",
         "rawType": "float64",
         "type": "float"
        },
        {
         "name": "Income",
         "rawType": "float64",
         "type": "float"
        },
        {
         "name": "Kidhome",
         "rawType": "float64",
         "type": "float"
        },
        {
         "name": "Teenhome",
         "rawType": "float64",
         "type": "float"
        },
        {
         "name": "Recency",
         "rawType": "float64",
         "type": "float"
        },
        {
         "name": "MntWines",
         "rawType": "float64",
         "type": "float"
        },
        {
         "name": "MntFruits",
         "rawType": "float64",
         "type": "float"
        },
        {
         "name": "MntMeatProducts",
         "rawType": "float64",
         "type": "float"
        },
        {
         "name": "MntFishProducts",
         "rawType": "float64",
         "type": "float"
        },
        {
         "name": "MntSweetProducts",
         "rawType": "float64",
         "type": "float"
        },
        {
         "name": "MntGoldProds",
         "rawType": "float64",
         "type": "float"
        },
        {
         "name": "NumDealsPurchases",
         "rawType": "float64",
         "type": "float"
        },
        {
         "name": "NumWebPurchases",
         "rawType": "float64",
         "type": "float"
        },
        {
         "name": "NumCatalogPurchases",
         "rawType": "float64",
         "type": "float"
        },
        {
         "name": "NumStorePurchases",
         "rawType": "float64",
         "type": "float"
        },
        {
         "name": "NumWebVisitsMonth",
         "rawType": "float64",
         "type": "float"
        },
        {
         "name": "AcceptedCmp3",
         "rawType": "float64",
         "type": "float"
        },
        {
         "name": "AcceptedCmp4",
         "rawType": "float64",
         "type": "float"
        },
        {
         "name": "AcceptedCmp5",
         "rawType": "float64",
         "type": "float"
        },
        {
         "name": "AcceptedCmp1",
         "rawType": "float64",
         "type": "float"
        },
        {
         "name": "AcceptedCmp2",
         "rawType": "float64",
         "type": "float"
        },
        {
         "name": "Complain",
         "rawType": "float64",
         "type": "float"
        },
        {
         "name": "Z_CostContact",
         "rawType": "float64",
         "type": "float"
        },
        {
         "name": "Z_Revenue",
         "rawType": "float64",
         "type": "float"
        },
        {
         "name": "Response",
         "rawType": "float64",
         "type": "float"
        }
       ],
       "ref": "e03fd73b-b925-4cd6-af4d-f14c6c6bd882",
       "rows": [
        [
         "count",
         "2216.0",
         "2216.0",
         "2216.0",
         "2216.0",
         "2216.0",
         "2216.0",
         "2216.0",
         "2216.0",
         "2216.0",
         "2216.0",
         "2216.0",
         "2216.0",
         "2216.0",
         "2216.0",
         "2216.0",
         "2216.0",
         "2216.0",
         "2216.0",
         "2216.0",
         "2216.0",
         "2216.0",
         "2216.0",
         "2216.0",
         "2216.0",
         "2216.0",
         "2216.0"
        ],
        [
         "mean",
         "5588.35333935018",
         "1968.8203971119133",
         "52247.25135379061",
         "0.4417870036101083",
         "0.5054151624548736",
         "49.01263537906137",
         "305.09160649819495",
         "26.356046931407942",
         "166.99593862815885",
         "37.63763537906137",
         "27.028880866425993",
         "43.96525270758123",
         "2.3235559566787005",
         "4.08528880866426",
         "2.671028880866426",
         "5.800992779783393",
         "5.319043321299639",
         "0.07355595667870037",
         "0.0740072202166065",
         "0.07310469314079422",
         "0.06407942238267147",
         "0.013537906137184115",
         "0.00947653429602888",
         "3.0",
         "11.0",
         "0.15027075812274368"
        ],
        [
         "std",
         "3249.3762748134714",
         "11.985554097352383",
         "25173.076660901403",
         "0.5368962401346713",
         "0.5441812115403034",
         "28.948351658624986",
         "337.32792011667175",
         "39.793916518238696",
         "224.2832727589816",
         "54.75208241485161",
         "41.07204566698226",
         "51.81541437447367",
         "1.9237156460114948",
         "2.7409510810147237",
         "2.9267336360080134",
         "3.250784785670522",
         "2.425358540606444",
         "0.2611058087606731",
         "0.2618417283260366",
         "0.26036702668143413",
         "0.24494963965914912",
         "0.11558832299800817",
         "0.09690700384872121",
         "0.0",
         "0.0",
         "0.35741727012906493"
        ],
        [
         "min",
         "0.0",
         "1893.0",
         "1730.0",
         "0.0",
         "0.0",
         "0.0",
         "0.0",
         "0.0",
         "0.0",
         "0.0",
         "0.0",
         "0.0",
         "0.0",
         "0.0",
         "0.0",
         "0.0",
         "0.0",
         "0.0",
         "0.0",
         "0.0",
         "0.0",
         "0.0",
         "0.0",
         "3.0",
         "11.0",
         "0.0"
        ],
        [
         "25%",
         "2814.75",
         "1959.0",
         "35303.0",
         "0.0",
         "0.0",
         "24.0",
         "24.0",
         "2.0",
         "16.0",
         "3.0",
         "1.0",
         "9.0",
         "1.0",
         "2.0",
         "0.0",
         "3.0",
         "3.0",
         "0.0",
         "0.0",
         "0.0",
         "0.0",
         "0.0",
         "0.0",
         "3.0",
         "11.0",
         "0.0"
        ],
        [
         "50%",
         "5458.5",
         "1970.0",
         "51381.5",
         "0.0",
         "0.0",
         "49.0",
         "174.5",
         "8.0",
         "68.0",
         "12.0",
         "8.0",
         "24.5",
         "2.0",
         "4.0",
         "2.0",
         "5.0",
         "6.0",
         "0.0",
         "0.0",
         "0.0",
         "0.0",
         "0.0",
         "0.0",
         "3.0",
         "11.0",
         "0.0"
        ],
        [
         "75%",
         "8421.75",
         "1977.0",
         "68522.0",
         "1.0",
         "1.0",
         "74.0",
         "505.0",
         "33.0",
         "232.25",
         "50.0",
         "33.0",
         "56.0",
         "3.0",
         "6.0",
         "4.0",
         "8.0",
         "7.0",
         "0.0",
         "0.0",
         "0.0",
         "0.0",
         "0.0",
         "0.0",
         "3.0",
         "11.0",
         "0.0"
        ],
        [
         "max",
         "11191.0",
         "1996.0",
         "666666.0",
         "2.0",
         "2.0",
         "99.0",
         "1493.0",
         "199.0",
         "1725.0",
         "259.0",
         "262.0",
         "321.0",
         "15.0",
         "27.0",
         "28.0",
         "13.0",
         "20.0",
         "1.0",
         "1.0",
         "1.0",
         "1.0",
         "1.0",
         "1.0",
         "3.0",
         "11.0",
         "1.0"
        ]
       ],
       "shape": {
        "columns": 26,
        "rows": 8
       }
      },
      "text/html": [
       "<div>\n",
       "<style scoped>\n",
       "    .dataframe tbody tr th:only-of-type {\n",
       "        vertical-align: middle;\n",
       "    }\n",
       "\n",
       "    .dataframe tbody tr th {\n",
       "        vertical-align: top;\n",
       "    }\n",
       "\n",
       "    .dataframe thead th {\n",
       "        text-align: right;\n",
       "    }\n",
       "</style>\n",
       "<table border=\"1\" class=\"dataframe\">\n",
       "  <thead>\n",
       "    <tr style=\"text-align: right;\">\n",
       "      <th></th>\n",
       "      <th>ID</th>\n",
       "      <th>Year_Birth</th>\n",
       "      <th>Income</th>\n",
       "      <th>Kidhome</th>\n",
       "      <th>Teenhome</th>\n",
       "      <th>Recency</th>\n",
       "      <th>MntWines</th>\n",
       "      <th>MntFruits</th>\n",
       "      <th>MntMeatProducts</th>\n",
       "      <th>MntFishProducts</th>\n",
       "      <th>...</th>\n",
       "      <th>NumWebVisitsMonth</th>\n",
       "      <th>AcceptedCmp3</th>\n",
       "      <th>AcceptedCmp4</th>\n",
       "      <th>AcceptedCmp5</th>\n",
       "      <th>AcceptedCmp1</th>\n",
       "      <th>AcceptedCmp2</th>\n",
       "      <th>Complain</th>\n",
       "      <th>Z_CostContact</th>\n",
       "      <th>Z_Revenue</th>\n",
       "      <th>Response</th>\n",
       "    </tr>\n",
       "  </thead>\n",
       "  <tbody>\n",
       "    <tr>\n",
       "      <th>count</th>\n",
       "      <td>2216.000000</td>\n",
       "      <td>2216.000000</td>\n",
       "      <td>2216.000000</td>\n",
       "      <td>2216.000000</td>\n",
       "      <td>2216.000000</td>\n",
       "      <td>2216.000000</td>\n",
       "      <td>2216.000000</td>\n",
       "      <td>2216.000000</td>\n",
       "      <td>2216.000000</td>\n",
       "      <td>2216.000000</td>\n",
       "      <td>...</td>\n",
       "      <td>2216.000000</td>\n",
       "      <td>2216.000000</td>\n",
       "      <td>2216.000000</td>\n",
       "      <td>2216.000000</td>\n",
       "      <td>2216.000000</td>\n",
       "      <td>2216.000000</td>\n",
       "      <td>2216.000000</td>\n",
       "      <td>2216.0</td>\n",
       "      <td>2216.0</td>\n",
       "      <td>2216.000000</td>\n",
       "    </tr>\n",
       "    <tr>\n",
       "      <th>mean</th>\n",
       "      <td>5588.353339</td>\n",
       "      <td>1968.820397</td>\n",
       "      <td>52247.251354</td>\n",
       "      <td>0.441787</td>\n",
       "      <td>0.505415</td>\n",
       "      <td>49.012635</td>\n",
       "      <td>305.091606</td>\n",
       "      <td>26.356047</td>\n",
       "      <td>166.995939</td>\n",
       "      <td>37.637635</td>\n",
       "      <td>...</td>\n",
       "      <td>5.319043</td>\n",
       "      <td>0.073556</td>\n",
       "      <td>0.074007</td>\n",
       "      <td>0.073105</td>\n",
       "      <td>0.064079</td>\n",
       "      <td>0.013538</td>\n",
       "      <td>0.009477</td>\n",
       "      <td>3.0</td>\n",
       "      <td>11.0</td>\n",
       "      <td>0.150271</td>\n",
       "    </tr>\n",
       "    <tr>\n",
       "      <th>std</th>\n",
       "      <td>3249.376275</td>\n",
       "      <td>11.985554</td>\n",
       "      <td>25173.076661</td>\n",
       "      <td>0.536896</td>\n",
       "      <td>0.544181</td>\n",
       "      <td>28.948352</td>\n",
       "      <td>337.327920</td>\n",
       "      <td>39.793917</td>\n",
       "      <td>224.283273</td>\n",
       "      <td>54.752082</td>\n",
       "      <td>...</td>\n",
       "      <td>2.425359</td>\n",
       "      <td>0.261106</td>\n",
       "      <td>0.261842</td>\n",
       "      <td>0.260367</td>\n",
       "      <td>0.244950</td>\n",
       "      <td>0.115588</td>\n",
       "      <td>0.096907</td>\n",
       "      <td>0.0</td>\n",
       "      <td>0.0</td>\n",
       "      <td>0.357417</td>\n",
       "    </tr>\n",
       "    <tr>\n",
       "      <th>min</th>\n",
       "      <td>0.000000</td>\n",
       "      <td>1893.000000</td>\n",
       "      <td>1730.000000</td>\n",
       "      <td>0.000000</td>\n",
       "      <td>0.000000</td>\n",
       "      <td>0.000000</td>\n",
       "      <td>0.000000</td>\n",
       "      <td>0.000000</td>\n",
       "      <td>0.000000</td>\n",
       "      <td>0.000000</td>\n",
       "      <td>...</td>\n",
       "      <td>0.000000</td>\n",
       "      <td>0.000000</td>\n",
       "      <td>0.000000</td>\n",
       "      <td>0.000000</td>\n",
       "      <td>0.000000</td>\n",
       "      <td>0.000000</td>\n",
       "      <td>0.000000</td>\n",
       "      <td>3.0</td>\n",
       "      <td>11.0</td>\n",
       "      <td>0.000000</td>\n",
       "    </tr>\n",
       "    <tr>\n",
       "      <th>25%</th>\n",
       "      <td>2814.750000</td>\n",
       "      <td>1959.000000</td>\n",
       "      <td>35303.000000</td>\n",
       "      <td>0.000000</td>\n",
       "      <td>0.000000</td>\n",
       "      <td>24.000000</td>\n",
       "      <td>24.000000</td>\n",
       "      <td>2.000000</td>\n",
       "      <td>16.000000</td>\n",
       "      <td>3.000000</td>\n",
       "      <td>...</td>\n",
       "      <td>3.000000</td>\n",
       "      <td>0.000000</td>\n",
       "      <td>0.000000</td>\n",
       "      <td>0.000000</td>\n",
       "      <td>0.000000</td>\n",
       "      <td>0.000000</td>\n",
       "      <td>0.000000</td>\n",
       "      <td>3.0</td>\n",
       "      <td>11.0</td>\n",
       "      <td>0.000000</td>\n",
       "    </tr>\n",
       "    <tr>\n",
       "      <th>50%</th>\n",
       "      <td>5458.500000</td>\n",
       "      <td>1970.000000</td>\n",
       "      <td>51381.500000</td>\n",
       "      <td>0.000000</td>\n",
       "      <td>0.000000</td>\n",
       "      <td>49.000000</td>\n",
       "      <td>174.500000</td>\n",
       "      <td>8.000000</td>\n",
       "      <td>68.000000</td>\n",
       "      <td>12.000000</td>\n",
       "      <td>...</td>\n",
       "      <td>6.000000</td>\n",
       "      <td>0.000000</td>\n",
       "      <td>0.000000</td>\n",
       "      <td>0.000000</td>\n",
       "      <td>0.000000</td>\n",
       "      <td>0.000000</td>\n",
       "      <td>0.000000</td>\n",
       "      <td>3.0</td>\n",
       "      <td>11.0</td>\n",
       "      <td>0.000000</td>\n",
       "    </tr>\n",
       "    <tr>\n",
       "      <th>75%</th>\n",
       "      <td>8421.750000</td>\n",
       "      <td>1977.000000</td>\n",
       "      <td>68522.000000</td>\n",
       "      <td>1.000000</td>\n",
       "      <td>1.000000</td>\n",
       "      <td>74.000000</td>\n",
       "      <td>505.000000</td>\n",
       "      <td>33.000000</td>\n",
       "      <td>232.250000</td>\n",
       "      <td>50.000000</td>\n",
       "      <td>...</td>\n",
       "      <td>7.000000</td>\n",
       "      <td>0.000000</td>\n",
       "      <td>0.000000</td>\n",
       "      <td>0.000000</td>\n",
       "      <td>0.000000</td>\n",
       "      <td>0.000000</td>\n",
       "      <td>0.000000</td>\n",
       "      <td>3.0</td>\n",
       "      <td>11.0</td>\n",
       "      <td>0.000000</td>\n",
       "    </tr>\n",
       "    <tr>\n",
       "      <th>max</th>\n",
       "      <td>11191.000000</td>\n",
       "      <td>1996.000000</td>\n",
       "      <td>666666.000000</td>\n",
       "      <td>2.000000</td>\n",
       "      <td>2.000000</td>\n",
       "      <td>99.000000</td>\n",
       "      <td>1493.000000</td>\n",
       "      <td>199.000000</td>\n",
       "      <td>1725.000000</td>\n",
       "      <td>259.000000</td>\n",
       "      <td>...</td>\n",
       "      <td>20.000000</td>\n",
       "      <td>1.000000</td>\n",
       "      <td>1.000000</td>\n",
       "      <td>1.000000</td>\n",
       "      <td>1.000000</td>\n",
       "      <td>1.000000</td>\n",
       "      <td>1.000000</td>\n",
       "      <td>3.0</td>\n",
       "      <td>11.0</td>\n",
       "      <td>1.000000</td>\n",
       "    </tr>\n",
       "  </tbody>\n",
       "</table>\n",
       "<p>8 rows × 26 columns</p>\n",
       "</div>"
      ],
      "text/plain": [
       "                 ID   Year_Birth         Income      Kidhome     Teenhome  \\\n",
       "count   2216.000000  2216.000000    2216.000000  2216.000000  2216.000000   \n",
       "mean    5588.353339  1968.820397   52247.251354     0.441787     0.505415   \n",
       "std     3249.376275    11.985554   25173.076661     0.536896     0.544181   \n",
       "min        0.000000  1893.000000    1730.000000     0.000000     0.000000   \n",
       "25%     2814.750000  1959.000000   35303.000000     0.000000     0.000000   \n",
       "50%     5458.500000  1970.000000   51381.500000     0.000000     0.000000   \n",
       "75%     8421.750000  1977.000000   68522.000000     1.000000     1.000000   \n",
       "max    11191.000000  1996.000000  666666.000000     2.000000     2.000000   \n",
       "\n",
       "           Recency     MntWines    MntFruits  MntMeatProducts  \\\n",
       "count  2216.000000  2216.000000  2216.000000      2216.000000   \n",
       "mean     49.012635   305.091606    26.356047       166.995939   \n",
       "std      28.948352   337.327920    39.793917       224.283273   \n",
       "min       0.000000     0.000000     0.000000         0.000000   \n",
       "25%      24.000000    24.000000     2.000000        16.000000   \n",
       "50%      49.000000   174.500000     8.000000        68.000000   \n",
       "75%      74.000000   505.000000    33.000000       232.250000   \n",
       "max      99.000000  1493.000000   199.000000      1725.000000   \n",
       "\n",
       "       MntFishProducts  ...  NumWebVisitsMonth  AcceptedCmp3  AcceptedCmp4  \\\n",
       "count      2216.000000  ...        2216.000000   2216.000000   2216.000000   \n",
       "mean         37.637635  ...           5.319043      0.073556      0.074007   \n",
       "std          54.752082  ...           2.425359      0.261106      0.261842   \n",
       "min           0.000000  ...           0.000000      0.000000      0.000000   \n",
       "25%           3.000000  ...           3.000000      0.000000      0.000000   \n",
       "50%          12.000000  ...           6.000000      0.000000      0.000000   \n",
       "75%          50.000000  ...           7.000000      0.000000      0.000000   \n",
       "max         259.000000  ...          20.000000      1.000000      1.000000   \n",
       "\n",
       "       AcceptedCmp5  AcceptedCmp1  AcceptedCmp2     Complain  Z_CostContact  \\\n",
       "count   2216.000000   2216.000000   2216.000000  2216.000000         2216.0   \n",
       "mean       0.073105      0.064079      0.013538     0.009477            3.0   \n",
       "std        0.260367      0.244950      0.115588     0.096907            0.0   \n",
       "min        0.000000      0.000000      0.000000     0.000000            3.0   \n",
       "25%        0.000000      0.000000      0.000000     0.000000            3.0   \n",
       "50%        0.000000      0.000000      0.000000     0.000000            3.0   \n",
       "75%        0.000000      0.000000      0.000000     0.000000            3.0   \n",
       "max        1.000000      1.000000      1.000000     1.000000            3.0   \n",
       "\n",
       "       Z_Revenue     Response  \n",
       "count     2216.0  2216.000000  \n",
       "mean        11.0     0.150271  \n",
       "std          0.0     0.357417  \n",
       "min         11.0     0.000000  \n",
       "25%         11.0     0.000000  \n",
       "50%         11.0     0.000000  \n",
       "75%         11.0     0.000000  \n",
       "max         11.0     1.000000  \n",
       "\n",
       "[8 rows x 26 columns]"
      ]
     },
     "execution_count": 13,
     "metadata": {},
     "output_type": "execute_result"
    }
   ],
   "source": [
    "df.describe()"
   ]
  },
  {
   "cell_type": "code",
   "execution_count": 14,
   "id": "904439e8",
   "metadata": {},
   "outputs": [
    {
     "data": {
      "application/vnd.microsoft.datawrangler.viewer.v0+json": {
       "columns": [
        {
         "name": "Education",
         "rawType": "object",
         "type": "string"
        },
        {
         "name": "count",
         "rawType": "int64",
         "type": "integer"
        }
       ],
       "ref": "4c8d4cef-5ca4-4f9c-8430-2092c81f907b",
       "rows": [
        [
         "Graduation",
         "1116"
        ],
        [
         "PhD",
         "481"
        ],
        [
         "Master",
         "365"
        ],
        [
         "2n Cycle",
         "200"
        ],
        [
         "Basic",
         "54"
        ]
       ],
       "shape": {
        "columns": 1,
        "rows": 5
       }
      },
      "text/plain": [
       "Education\n",
       "Graduation    1116\n",
       "PhD            481\n",
       "Master         365\n",
       "2n Cycle       200\n",
       "Basic           54\n",
       "Name: count, dtype: int64"
      ]
     },
     "execution_count": 14,
     "metadata": {},
     "output_type": "execute_result"
    }
   ],
   "source": [
    "df[\"Education\"].value_counts()"
   ]
  },
  {
   "cell_type": "code",
   "execution_count": 15,
   "id": "cf8cfe45",
   "metadata": {},
   "outputs": [
    {
     "data": {
      "application/vnd.microsoft.datawrangler.viewer.v0+json": {
       "columns": [
        {
         "name": "Marital_Status",
         "rawType": "object",
         "type": "string"
        },
        {
         "name": "count",
         "rawType": "int64",
         "type": "integer"
        }
       ],
       "ref": "19f1c318-149b-42cd-bd01-b2451b3d4855",
       "rows": [
        [
         "Married",
         "857"
        ],
        [
         "Together",
         "573"
        ],
        [
         "Single",
         "471"
        ],
        [
         "Divorced",
         "232"
        ],
        [
         "Widow",
         "76"
        ],
        [
         "Alone",
         "3"
        ],
        [
         "Absurd",
         "2"
        ],
        [
         "YOLO",
         "2"
        ]
       ],
       "shape": {
        "columns": 1,
        "rows": 8
       }
      },
      "text/plain": [
       "Marital_Status\n",
       "Married     857\n",
       "Together    573\n",
       "Single      471\n",
       "Divorced    232\n",
       "Widow        76\n",
       "Alone         3\n",
       "Absurd        2\n",
       "YOLO          2\n",
       "Name: count, dtype: int64"
      ]
     },
     "execution_count": 15,
     "metadata": {},
     "output_type": "execute_result"
    }
   ],
   "source": [
    "df[\"Marital_Status\"].value_counts()"
   ]
  },
  {
   "cell_type": "code",
   "execution_count": 16,
   "id": "74ce1d8c",
   "metadata": {},
   "outputs": [],
   "source": [
    "df[\"Dt_Customer\"] = pd.to_datetime(df[\"Dt_Customer\"], dayfirst=True)"
   ]
  },
  {
   "cell_type": "code",
   "execution_count": 18,
   "id": "194497e2",
   "metadata": {},
   "outputs": [
    {
     "name": "stdout",
     "output_type": "stream",
     "text": [
      "<class 'pandas.core.frame.DataFrame'>\n",
      "Index: 2216 entries, 0 to 2239\n",
      "Data columns (total 29 columns):\n",
      " #   Column               Non-Null Count  Dtype         \n",
      "---  ------               --------------  -----         \n",
      " 0   ID                   2216 non-null   int64         \n",
      " 1   Year_Birth           2216 non-null   int64         \n",
      " 2   Education            2216 non-null   object        \n",
      " 3   Marital_Status       2216 non-null   object        \n",
      " 4   Income               2216 non-null   float64       \n",
      " 5   Kidhome              2216 non-null   int64         \n",
      " 6   Teenhome             2216 non-null   int64         \n",
      " 7   Dt_Customer          2216 non-null   datetime64[ns]\n",
      " 8   Recency              2216 non-null   int64         \n",
      " 9   MntWines             2216 non-null   int64         \n",
      " 10  MntFruits            2216 non-null   int64         \n",
      " 11  MntMeatProducts      2216 non-null   int64         \n",
      " 12  MntFishProducts      2216 non-null   int64         \n",
      " 13  MntSweetProducts     2216 non-null   int64         \n",
      " 14  MntGoldProds         2216 non-null   int64         \n",
      " 15  NumDealsPurchases    2216 non-null   int64         \n",
      " 16  NumWebPurchases      2216 non-null   int64         \n",
      " 17  NumCatalogPurchases  2216 non-null   int64         \n",
      " 18  NumStorePurchases    2216 non-null   int64         \n",
      " 19  NumWebVisitsMonth    2216 non-null   int64         \n",
      " 20  AcceptedCmp3         2216 non-null   int64         \n",
      " 21  AcceptedCmp4         2216 non-null   int64         \n",
      " 22  AcceptedCmp5         2216 non-null   int64         \n",
      " 23  AcceptedCmp1         2216 non-null   int64         \n",
      " 24  AcceptedCmp2         2216 non-null   int64         \n",
      " 25  Complain             2216 non-null   int64         \n",
      " 26  Z_CostContact        2216 non-null   int64         \n",
      " 27  Z_Revenue            2216 non-null   int64         \n",
      " 28  Response             2216 non-null   int64         \n",
      "dtypes: datetime64[ns](1), float64(1), int64(25), object(2)\n",
      "memory usage: 519.4+ KB\n"
     ]
    }
   ],
   "source": [
    "df.info()"
   ]
  },
  {
   "cell_type": "code",
   "execution_count": 19,
   "id": "8b5f1378",
   "metadata": {},
   "outputs": [],
   "source": [
    "df[\"Age\"] = 2025 - df[\"Year_Birth\"]"
   ]
  },
  {
   "cell_type": "code",
   "execution_count": 20,
   "id": "b8561ae0",
   "metadata": {},
   "outputs": [
    {
     "data": {
      "application/vnd.microsoft.datawrangler.viewer.v0+json": {
       "columns": [
        {
         "name": "index",
         "rawType": "int64",
         "type": "integer"
        },
        {
         "name": "Age",
         "rawType": "int64",
         "type": "integer"
        }
       ],
       "ref": "af02b2ef-f91d-430d-b6d3-9a65c83be365",
       "rows": [
        [
         "0",
         "68"
        ],
        [
         "1",
         "71"
        ],
        [
         "2",
         "60"
        ],
        [
         "3",
         "41"
        ],
        [
         "4",
         "44"
        ],
        [
         "5",
         "58"
        ],
        [
         "6",
         "54"
        ],
        [
         "7",
         "40"
        ],
        [
         "8",
         "51"
        ],
        [
         "9",
         "75"
        ],
        [
         "11",
         "49"
        ],
        [
         "12",
         "66"
        ],
        [
         "13",
         "73"
        ],
        [
         "14",
         "38"
        ],
        [
         "15",
         "79"
        ],
        [
         "16",
         "45"
        ],
        [
         "17",
         "79"
        ],
        [
         "18",
         "76"
        ],
        [
         "19",
         "40"
        ],
        [
         "20",
         "43"
        ],
        [
         "21",
         "46"
        ],
        [
         "22",
         "76"
        ],
        [
         "23",
         "71"
        ],
        [
         "24",
         "74"
        ],
        [
         "25",
         "56"
        ],
        [
         "26",
         "49"
        ],
        [
         "28",
         "36"
        ],
        [
         "29",
         "60"
        ],
        [
         "30",
         "36"
        ],
        [
         "31",
         "62"
        ],
        [
         "32",
         "55"
        ],
        [
         "33",
         "73"
        ],
        [
         "34",
         "79"
        ],
        [
         "35",
         "74"
        ],
        [
         "36",
         "55"
        ],
        [
         "37",
         "49"
        ],
        [
         "38",
         "52"
        ],
        [
         "39",
         "82"
        ],
        [
         "40",
         "45"
        ],
        [
         "41",
         "40"
        ],
        [
         "42",
         "68"
        ],
        [
         "44",
         "50"
        ],
        [
         "45",
         "49"
        ],
        [
         "46",
         "29"
        ],
        [
         "47",
         "57"
        ],
        [
         "49",
         "71"
        ],
        [
         "50",
         "68"
        ],
        [
         "51",
         "61"
        ],
        [
         "52",
         "48"
        ],
        [
         "53",
         "48"
        ]
       ],
       "shape": {
        "columns": 1,
        "rows": 2216
       }
      },
      "text/plain": [
       "0       68\n",
       "1       71\n",
       "2       60\n",
       "3       41\n",
       "4       44\n",
       "        ..\n",
       "2235    58\n",
       "2236    79\n",
       "2237    44\n",
       "2238    69\n",
       "2239    71\n",
       "Name: Age, Length: 2216, dtype: int64"
      ]
     },
     "execution_count": 20,
     "metadata": {},
     "output_type": "execute_result"
    }
   ],
   "source": [
    "df[\"Age\"]"
   ]
  },
  {
   "cell_type": "code",
   "execution_count": 21,
   "id": "10b974af",
   "metadata": {},
   "outputs": [],
   "source": [
    "df[\"Total_Children\"] = df[\"Kidhome\"] + df[\"Teenhome\"]"
   ]
  },
  {
   "cell_type": "code",
   "execution_count": 22,
   "id": "aae557b9",
   "metadata": {},
   "outputs": [
    {
     "data": {
      "application/vnd.microsoft.datawrangler.viewer.v0+json": {
       "columns": [
        {
         "name": "index",
         "rawType": "int64",
         "type": "integer"
        },
        {
         "name": "Total_Children",
         "rawType": "int64",
         "type": "integer"
        }
       ],
       "ref": "69a8f9ab-2a8e-4301-b36e-63aa02dce0c8",
       "rows": [
        [
         "0",
         "0"
        ],
        [
         "1",
         "2"
        ],
        [
         "2",
         "0"
        ],
        [
         "3",
         "1"
        ],
        [
         "4",
         "1"
        ],
        [
         "5",
         "1"
        ],
        [
         "6",
         "1"
        ],
        [
         "7",
         "1"
        ],
        [
         "8",
         "1"
        ],
        [
         "9",
         "2"
        ],
        [
         "11",
         "0"
        ],
        [
         "12",
         "0"
        ],
        [
         "13",
         "2"
        ],
        [
         "14",
         "0"
        ],
        [
         "15",
         "0"
        ],
        [
         "16",
         "2"
        ],
        [
         "17",
         "0"
        ],
        [
         "18",
         "1"
        ],
        [
         "19",
         "1"
        ],
        [
         "20",
         "0"
        ],
        [
         "21",
         "1"
        ],
        [
         "22",
         "1"
        ],
        [
         "23",
         "1"
        ],
        [
         "24",
         "1"
        ],
        [
         "25",
         "0"
        ],
        [
         "26",
         "2"
        ],
        [
         "28",
         "1"
        ],
        [
         "29",
         "0"
        ],
        [
         "30",
         "0"
        ],
        [
         "31",
         "0"
        ],
        [
         "32",
         "1"
        ],
        [
         "33",
         "2"
        ],
        [
         "34",
         "0"
        ],
        [
         "35",
         "2"
        ],
        [
         "36",
         "1"
        ],
        [
         "37",
         "1"
        ],
        [
         "38",
         "1"
        ],
        [
         "39",
         "0"
        ],
        [
         "40",
         "1"
        ],
        [
         "41",
         "1"
        ],
        [
         "42",
         "1"
        ],
        [
         "44",
         "1"
        ],
        [
         "45",
         "0"
        ],
        [
         "46",
         "0"
        ],
        [
         "47",
         "1"
        ],
        [
         "49",
         "2"
        ],
        [
         "50",
         "1"
        ],
        [
         "51",
         "0"
        ],
        [
         "52",
         "1"
        ],
        [
         "53",
         "0"
        ]
       ],
       "shape": {
        "columns": 1,
        "rows": 2216
       }
      },
      "text/plain": [
       "0       0\n",
       "1       2\n",
       "2       0\n",
       "3       1\n",
       "4       1\n",
       "       ..\n",
       "2235    1\n",
       "2236    3\n",
       "2237    0\n",
       "2238    1\n",
       "2239    2\n",
       "Name: Total_Children, Length: 2216, dtype: int64"
      ]
     },
     "execution_count": 22,
     "metadata": {},
     "output_type": "execute_result"
    }
   ],
   "source": [
    "df[\"Total_Children\"]"
   ]
  },
  {
   "cell_type": "code",
   "execution_count": 24,
   "id": "54b0a40d",
   "metadata": {},
   "outputs": [
    {
     "data": {
      "text/plain": [
       "Index(['ID', 'Year_Birth', 'Education', 'Marital_Status', 'Income', 'Kidhome',\n",
       "       'Teenhome', 'Dt_Customer', 'Recency', 'MntWines', 'MntFruits',\n",
       "       'MntMeatProducts', 'MntFishProducts', 'MntSweetProducts',\n",
       "       'MntGoldProds', 'NumDealsPurchases', 'NumWebPurchases',\n",
       "       'NumCatalogPurchases', 'NumStorePurchases', 'NumWebVisitsMonth',\n",
       "       'AcceptedCmp3', 'AcceptedCmp4', 'AcceptedCmp5', 'AcceptedCmp1',\n",
       "       'AcceptedCmp2', 'Complain', 'Z_CostContact', 'Z_Revenue', 'Response',\n",
       "       'Age', 'Total_Children'],\n",
       "      dtype='object')"
      ]
     },
     "execution_count": 24,
     "metadata": {},
     "output_type": "execute_result"
    }
   ],
   "source": [
    "df.columns"
   ]
  },
  {
   "cell_type": "code",
   "execution_count": 25,
   "id": "987865ff",
   "metadata": {},
   "outputs": [],
   "source": [
    "spending_columns = [\"MntWines\", \"MntFruits\", \"MntMeatProducts\", \"MntFishProducts\",\"MntSweetProducts\",\"MntGoldProds\"]"
   ]
  },
  {
   "cell_type": "code",
   "execution_count": 26,
   "id": "38483381",
   "metadata": {},
   "outputs": [],
   "source": [
    "df[\"Total_Spending\"] = df[spending_columns].sum(axis=1)"
   ]
  },
  {
   "cell_type": "code",
   "execution_count": 27,
   "id": "435eb850",
   "metadata": {},
   "outputs": [
    {
     "data": {
      "application/vnd.microsoft.datawrangler.viewer.v0+json": {
       "columns": [
        {
         "name": "index",
         "rawType": "int64",
         "type": "integer"
        },
        {
         "name": "Total_Spending",
         "rawType": "int64",
         "type": "integer"
        }
       ],
       "ref": "bace7c0c-5f2f-4f41-a78d-cefd407a16ab",
       "rows": [
        [
         "0",
         "1617"
        ],
        [
         "1",
         "27"
        ],
        [
         "2",
         "776"
        ],
        [
         "3",
         "53"
        ],
        [
         "4",
         "422"
        ],
        [
         "5",
         "716"
        ],
        [
         "6",
         "590"
        ],
        [
         "7",
         "169"
        ],
        [
         "8",
         "46"
        ],
        [
         "9",
         "49"
        ],
        [
         "11",
         "61"
        ],
        [
         "12",
         "1102"
        ],
        [
         "13",
         "310"
        ],
        [
         "14",
         "46"
        ],
        [
         "15",
         "1315"
        ],
        [
         "16",
         "96"
        ],
        [
         "17",
         "317"
        ],
        [
         "18",
         "1782"
        ],
        [
         "19",
         "133"
        ],
        [
         "20",
         "316"
        ],
        [
         "21",
         "1730"
        ],
        [
         "22",
         "972"
        ],
        [
         "23",
         "544"
        ],
        [
         "24",
         "444"
        ],
        [
         "25",
         "75"
        ],
        [
         "26",
         "257"
        ],
        [
         "28",
         "131"
        ],
        [
         "29",
         "1672"
        ],
        [
         "30",
         "30"
        ],
        [
         "31",
         "318"
        ],
        [
         "32",
         "120"
        ],
        [
         "33",
         "302"
        ],
        [
         "34",
         "1196"
        ],
        [
         "35",
         "65"
        ],
        [
         "36",
         "913"
        ],
        [
         "37",
         "81"
        ],
        [
         "38",
         "67"
        ],
        [
         "39",
         "902"
        ],
        [
         "40",
         "1395"
        ],
        [
         "41",
         "53"
        ],
        [
         "42",
         "22"
        ],
        [
         "44",
         "31"
        ],
        [
         "45",
         "984"
        ],
        [
         "46",
         "122"
        ],
        [
         "47",
         "55"
        ],
        [
         "49",
         "1319"
        ],
        [
         "50",
         "507"
        ],
        [
         "51",
         "1693"
        ],
        [
         "52",
         "72"
        ],
        [
         "53",
         "1617"
        ]
       ],
       "shape": {
        "columns": 1,
        "rows": 2216
       }
      },
      "text/plain": [
       "0       1617\n",
       "1         27\n",
       "2        776\n",
       "3         53\n",
       "4        422\n",
       "        ... \n",
       "2235    1341\n",
       "2236     444\n",
       "2237    1241\n",
       "2238     843\n",
       "2239     172\n",
       "Name: Total_Spending, Length: 2216, dtype: int64"
      ]
     },
     "execution_count": 27,
     "metadata": {},
     "output_type": "execute_result"
    }
   ],
   "source": [
    "df[\"Total_Spending\"]"
   ]
  },
  {
   "cell_type": "code",
   "execution_count": 29,
   "id": "0774ab85",
   "metadata": {},
   "outputs": [],
   "source": [
    "df[\"Customer_Since\"] = (pd.Timestamp(\"today\") - df[\"Dt_Customer\"]).dt.days"
   ]
  },
  {
   "cell_type": "code",
   "execution_count": 30,
   "id": "4a1dfd3d",
   "metadata": {},
   "outputs": [
    {
     "data": {
      "application/vnd.microsoft.datawrangler.viewer.v0+json": {
       "columns": [
        {
         "name": "index",
         "rawType": "int64",
         "type": "integer"
        },
        {
         "name": "Customer_Since",
         "rawType": "int64",
         "type": "integer"
        }
       ],
       "ref": "62a4b2a0-765e-494b-956a-f5f74a03c448",
       "rows": [
        [
         "0",
         "4706"
        ],
        [
         "1",
         "4156"
        ],
        [
         "2",
         "4355"
        ],
        [
         "3",
         "4182"
        ],
        [
         "4",
         "4204"
        ],
        [
         "5",
         "4336"
        ],
        [
         "6",
         "4636"
        ],
        [
         "7",
         "4460"
        ],
        [
         "8",
         "4431"
        ],
        [
         "9",
         "4151"
        ],
        [
         "11",
         "4636"
        ],
        [
         "12",
         "4269"
        ],
        [
         "13",
         "4269"
        ],
        [
         "14",
         "4670"
        ],
        [
         "15",
         "4625"
        ],
        [
         "16",
         "4595"
        ],
        [
         "17",
         "4710"
        ],
        [
         "18",
         "4501"
        ],
        [
         "19",
         "4646"
        ],
        [
         "20",
         "4733"
        ],
        [
         "21",
         "4582"
        ],
        [
         "22",
         "4596"
        ],
        [
         "23",
         "4212"
        ],
        [
         "24",
         "4511"
        ],
        [
         "25",
         "4586"
        ],
        [
         "26",
         "4441"
        ],
        [
         "28",
         "4437"
        ],
        [
         "29",
         "4262"
        ],
        [
         "30",
         "4081"
        ],
        [
         "31",
         "4457"
        ],
        [
         "32",
         "4670"
        ],
        [
         "33",
         "4651"
        ],
        [
         "34",
         "4537"
        ],
        [
         "35",
         "4347"
        ],
        [
         "36",
         "4223"
        ],
        [
         "37",
         "4343"
        ],
        [
         "38",
         "4181"
        ],
        [
         "39",
         "4556"
        ],
        [
         "40",
         "4469"
        ],
        [
         "41",
         "4517"
        ],
        [
         "42",
         "4595"
        ],
        [
         "44",
         "4313"
        ],
        [
         "45",
         "4044"
        ],
        [
         "46",
         "4640"
        ],
        [
         "47",
         "4444"
        ],
        [
         "49",
         "4641"
        ],
        [
         "50",
         "4091"
        ],
        [
         "51",
         "4730"
        ],
        [
         "52",
         "4586"
        ],
        [
         "53",
         "4065"
        ]
       ],
       "shape": {
        "columns": 1,
        "rows": 2216
       }
      },
      "text/plain": [
       "0       4706\n",
       "1       4156\n",
       "2       4355\n",
       "3       4182\n",
       "4       4204\n",
       "        ... \n",
       "2235    4424\n",
       "2236    4062\n",
       "2237    4198\n",
       "2238    4199\n",
       "2239    4665\n",
       "Name: Customer_Since, Length: 2216, dtype: int64"
      ]
     },
     "execution_count": 30,
     "metadata": {},
     "output_type": "execute_result"
    }
   ],
   "source": [
    "df[\"Customer_Since\"]"
   ]
  },
  {
   "cell_type": "code",
   "execution_count": null,
   "id": "84302ed1",
   "metadata": {},
   "outputs": [],
   "source": []
  }
 ],
 "metadata": {
  "kernelspec": {
   "display_name": "Python 3",
   "language": "python",
   "name": "python3"
  },
  "language_info": {
   "codemirror_mode": {
    "name": "ipython",
    "version": 3
   },
   "file_extension": ".py",
   "mimetype": "text/x-python",
   "name": "python",
   "nbconvert_exporter": "python",
   "pygments_lexer": "ipython3",
   "version": "3.12.1"
  }
 },
 "nbformat": 4,
 "nbformat_minor": 5
}
