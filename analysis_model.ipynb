{
 "cells": [
  {
   "cell_type": "code",
   "execution_count": 1,
   "id": "08b55c91",
   "metadata": {},
   "outputs": [],
   "source": [
    "import pandas as pd\n",
    "import numpy as np\n",
    "import matplotlib.pyplot as plt\n",
    "import seaborn as sns"
   ]
  },
  {
   "cell_type": "code",
   "execution_count": 2,
   "id": "c5b7ebcb",
   "metadata": {},
   "outputs": [],
   "source": [
    "df = pd.read_csv('customer_segmentation.csv')"
   ]
  },
  {
   "cell_type": "code",
   "execution_count": 3,
   "id": "81184a7e",
   "metadata": {},
   "outputs": [
    {
     "data": {
      "application/vnd.microsoft.datawrangler.viewer.v0+json": {
       "columns": [
        {
         "name": "index",
         "rawType": "int64",
         "type": "integer"
        },
        {
         "name": "ID",
         "rawType": "int64",
         "type": "integer"
        },
        {
         "name": "Year_Birth",
         "rawType": "int64",
         "type": "integer"
        },
        {
         "name": "Education",
         "rawType": "object",
         "type": "string"
        },
        {
         "name": "Marital_Status",
         "rawType": "object",
         "type": "string"
        },
        {
         "name": "Income",
         "rawType": "float64",
         "type": "float"
        },
        {
         "name": "Kidhome",
         "rawType": "int64",
         "type": "integer"
        },
        {
         "name": "Teenhome",
         "rawType": "int64",
         "type": "integer"
        },
        {
         "name": "Dt_Customer",
         "rawType": "object",
         "type": "string"
        },
        {
         "name": "Recency",
         "rawType": "int64",
         "type": "integer"
        },
        {
         "name": "MntWines",
         "rawType": "int64",
         "type": "integer"
        },
        {
         "name": "MntFruits",
         "rawType": "int64",
         "type": "integer"
        },
        {
         "name": "MntMeatProducts",
         "rawType": "int64",
         "type": "integer"
        },
        {
         "name": "MntFishProducts",
         "rawType": "int64",
         "type": "integer"
        },
        {
         "name": "MntSweetProducts",
         "rawType": "int64",
         "type": "integer"
        },
        {
         "name": "MntGoldProds",
         "rawType": "int64",
         "type": "integer"
        },
        {
         "name": "NumDealsPurchases",
         "rawType": "int64",
         "type": "integer"
        },
        {
         "name": "NumWebPurchases",
         "rawType": "int64",
         "type": "integer"
        },
        {
         "name": "NumCatalogPurchases",
         "rawType": "int64",
         "type": "integer"
        },
        {
         "name": "NumStorePurchases",
         "rawType": "int64",
         "type": "integer"
        },
        {
         "name": "NumWebVisitsMonth",
         "rawType": "int64",
         "type": "integer"
        },
        {
         "name": "AcceptedCmp3",
         "rawType": "int64",
         "type": "integer"
        },
        {
         "name": "AcceptedCmp4",
         "rawType": "int64",
         "type": "integer"
        },
        {
         "name": "AcceptedCmp5",
         "rawType": "int64",
         "type": "integer"
        },
        {
         "name": "AcceptedCmp1",
         "rawType": "int64",
         "type": "integer"
        },
        {
         "name": "AcceptedCmp2",
         "rawType": "int64",
         "type": "integer"
        },
        {
         "name": "Complain",
         "rawType": "int64",
         "type": "integer"
        },
        {
         "name": "Z_CostContact",
         "rawType": "int64",
         "type": "integer"
        },
        {
         "name": "Z_Revenue",
         "rawType": "int64",
         "type": "integer"
        },
        {
         "name": "Response",
         "rawType": "int64",
         "type": "integer"
        }
       ],
       "ref": "1f4d7244-829b-4111-9b8c-917fb58237d5",
       "rows": [
        [
         "0",
         "5524",
         "1957",
         "Graduation",
         "Single",
         "58138.0",
         "0",
         "0",
         "04-09-2012",
         "58",
         "635",
         "88",
         "546",
         "172",
         "88",
         "88",
         "3",
         "8",
         "10",
         "4",
         "7",
         "0",
         "0",
         "0",
         "0",
         "0",
         "0",
         "3",
         "11",
         "1"
        ],
        [
         "1",
         "2174",
         "1954",
         "Graduation",
         "Single",
         "46344.0",
         "1",
         "1",
         "08-03-2014",
         "38",
         "11",
         "1",
         "6",
         "2",
         "1",
         "6",
         "2",
         "1",
         "1",
         "2",
         "5",
         "0",
         "0",
         "0",
         "0",
         "0",
         "0",
         "3",
         "11",
         "0"
        ],
        [
         "2",
         "4141",
         "1965",
         "Graduation",
         "Together",
         "71613.0",
         "0",
         "0",
         "21-08-2013",
         "26",
         "426",
         "49",
         "127",
         "111",
         "21",
         "42",
         "1",
         "8",
         "2",
         "10",
         "4",
         "0",
         "0",
         "0",
         "0",
         "0",
         "0",
         "3",
         "11",
         "0"
        ],
        [
         "3",
         "6182",
         "1984",
         "Graduation",
         "Together",
         "26646.0",
         "1",
         "0",
         "10-02-2014",
         "26",
         "11",
         "4",
         "20",
         "10",
         "3",
         "5",
         "2",
         "2",
         "0",
         "4",
         "6",
         "0",
         "0",
         "0",
         "0",
         "0",
         "0",
         "3",
         "11",
         "0"
        ],
        [
         "4",
         "5324",
         "1981",
         "PhD",
         "Married",
         "58293.0",
         "1",
         "0",
         "19-01-2014",
         "94",
         "173",
         "43",
         "118",
         "46",
         "27",
         "15",
         "5",
         "5",
         "3",
         "6",
         "5",
         "0",
         "0",
         "0",
         "0",
         "0",
         "0",
         "3",
         "11",
         "0"
        ]
       ],
       "shape": {
        "columns": 29,
        "rows": 5
       }
      },
      "text/html": [
       "<div>\n",
       "<style scoped>\n",
       "    .dataframe tbody tr th:only-of-type {\n",
       "        vertical-align: middle;\n",
       "    }\n",
       "\n",
       "    .dataframe tbody tr th {\n",
       "        vertical-align: top;\n",
       "    }\n",
       "\n",
       "    .dataframe thead th {\n",
       "        text-align: right;\n",
       "    }\n",
       "</style>\n",
       "<table border=\"1\" class=\"dataframe\">\n",
       "  <thead>\n",
       "    <tr style=\"text-align: right;\">\n",
       "      <th></th>\n",
       "      <th>ID</th>\n",
       "      <th>Year_Birth</th>\n",
       "      <th>Education</th>\n",
       "      <th>Marital_Status</th>\n",
       "      <th>Income</th>\n",
       "      <th>Kidhome</th>\n",
       "      <th>Teenhome</th>\n",
       "      <th>Dt_Customer</th>\n",
       "      <th>Recency</th>\n",
       "      <th>MntWines</th>\n",
       "      <th>...</th>\n",
       "      <th>NumWebVisitsMonth</th>\n",
       "      <th>AcceptedCmp3</th>\n",
       "      <th>AcceptedCmp4</th>\n",
       "      <th>AcceptedCmp5</th>\n",
       "      <th>AcceptedCmp1</th>\n",
       "      <th>AcceptedCmp2</th>\n",
       "      <th>Complain</th>\n",
       "      <th>Z_CostContact</th>\n",
       "      <th>Z_Revenue</th>\n",
       "      <th>Response</th>\n",
       "    </tr>\n",
       "  </thead>\n",
       "  <tbody>\n",
       "    <tr>\n",
       "      <th>0</th>\n",
       "      <td>5524</td>\n",
       "      <td>1957</td>\n",
       "      <td>Graduation</td>\n",
       "      <td>Single</td>\n",
       "      <td>58138.0</td>\n",
       "      <td>0</td>\n",
       "      <td>0</td>\n",
       "      <td>04-09-2012</td>\n",
       "      <td>58</td>\n",
       "      <td>635</td>\n",
       "      <td>...</td>\n",
       "      <td>7</td>\n",
       "      <td>0</td>\n",
       "      <td>0</td>\n",
       "      <td>0</td>\n",
       "      <td>0</td>\n",
       "      <td>0</td>\n",
       "      <td>0</td>\n",
       "      <td>3</td>\n",
       "      <td>11</td>\n",
       "      <td>1</td>\n",
       "    </tr>\n",
       "    <tr>\n",
       "      <th>1</th>\n",
       "      <td>2174</td>\n",
       "      <td>1954</td>\n",
       "      <td>Graduation</td>\n",
       "      <td>Single</td>\n",
       "      <td>46344.0</td>\n",
       "      <td>1</td>\n",
       "      <td>1</td>\n",
       "      <td>08-03-2014</td>\n",
       "      <td>38</td>\n",
       "      <td>11</td>\n",
       "      <td>...</td>\n",
       "      <td>5</td>\n",
       "      <td>0</td>\n",
       "      <td>0</td>\n",
       "      <td>0</td>\n",
       "      <td>0</td>\n",
       "      <td>0</td>\n",
       "      <td>0</td>\n",
       "      <td>3</td>\n",
       "      <td>11</td>\n",
       "      <td>0</td>\n",
       "    </tr>\n",
       "    <tr>\n",
       "      <th>2</th>\n",
       "      <td>4141</td>\n",
       "      <td>1965</td>\n",
       "      <td>Graduation</td>\n",
       "      <td>Together</td>\n",
       "      <td>71613.0</td>\n",
       "      <td>0</td>\n",
       "      <td>0</td>\n",
       "      <td>21-08-2013</td>\n",
       "      <td>26</td>\n",
       "      <td>426</td>\n",
       "      <td>...</td>\n",
       "      <td>4</td>\n",
       "      <td>0</td>\n",
       "      <td>0</td>\n",
       "      <td>0</td>\n",
       "      <td>0</td>\n",
       "      <td>0</td>\n",
       "      <td>0</td>\n",
       "      <td>3</td>\n",
       "      <td>11</td>\n",
       "      <td>0</td>\n",
       "    </tr>\n",
       "    <tr>\n",
       "      <th>3</th>\n",
       "      <td>6182</td>\n",
       "      <td>1984</td>\n",
       "      <td>Graduation</td>\n",
       "      <td>Together</td>\n",
       "      <td>26646.0</td>\n",
       "      <td>1</td>\n",
       "      <td>0</td>\n",
       "      <td>10-02-2014</td>\n",
       "      <td>26</td>\n",
       "      <td>11</td>\n",
       "      <td>...</td>\n",
       "      <td>6</td>\n",
       "      <td>0</td>\n",
       "      <td>0</td>\n",
       "      <td>0</td>\n",
       "      <td>0</td>\n",
       "      <td>0</td>\n",
       "      <td>0</td>\n",
       "      <td>3</td>\n",
       "      <td>11</td>\n",
       "      <td>0</td>\n",
       "    </tr>\n",
       "    <tr>\n",
       "      <th>4</th>\n",
       "      <td>5324</td>\n",
       "      <td>1981</td>\n",
       "      <td>PhD</td>\n",
       "      <td>Married</td>\n",
       "      <td>58293.0</td>\n",
       "      <td>1</td>\n",
       "      <td>0</td>\n",
       "      <td>19-01-2014</td>\n",
       "      <td>94</td>\n",
       "      <td>173</td>\n",
       "      <td>...</td>\n",
       "      <td>5</td>\n",
       "      <td>0</td>\n",
       "      <td>0</td>\n",
       "      <td>0</td>\n",
       "      <td>0</td>\n",
       "      <td>0</td>\n",
       "      <td>0</td>\n",
       "      <td>3</td>\n",
       "      <td>11</td>\n",
       "      <td>0</td>\n",
       "    </tr>\n",
       "  </tbody>\n",
       "</table>\n",
       "<p>5 rows × 29 columns</p>\n",
       "</div>"
      ],
      "text/plain": [
       "     ID  Year_Birth   Education Marital_Status   Income  Kidhome  Teenhome  \\\n",
       "0  5524        1957  Graduation         Single  58138.0        0         0   \n",
       "1  2174        1954  Graduation         Single  46344.0        1         1   \n",
       "2  4141        1965  Graduation       Together  71613.0        0         0   \n",
       "3  6182        1984  Graduation       Together  26646.0        1         0   \n",
       "4  5324        1981         PhD        Married  58293.0        1         0   \n",
       "\n",
       "  Dt_Customer  Recency  MntWines  ...  NumWebVisitsMonth  AcceptedCmp3  \\\n",
       "0  04-09-2012       58       635  ...                  7             0   \n",
       "1  08-03-2014       38        11  ...                  5             0   \n",
       "2  21-08-2013       26       426  ...                  4             0   \n",
       "3  10-02-2014       26        11  ...                  6             0   \n",
       "4  19-01-2014       94       173  ...                  5             0   \n",
       "\n",
       "   AcceptedCmp4  AcceptedCmp5  AcceptedCmp1  AcceptedCmp2  Complain  \\\n",
       "0             0             0             0             0         0   \n",
       "1             0             0             0             0         0   \n",
       "2             0             0             0             0         0   \n",
       "3             0             0             0             0         0   \n",
       "4             0             0             0             0         0   \n",
       "\n",
       "   Z_CostContact  Z_Revenue  Response  \n",
       "0              3         11         1  \n",
       "1              3         11         0  \n",
       "2              3         11         0  \n",
       "3              3         11         0  \n",
       "4              3         11         0  \n",
       "\n",
       "[5 rows x 29 columns]"
      ]
     },
     "execution_count": 3,
     "metadata": {},
     "output_type": "execute_result"
    }
   ],
   "source": [
    "df.head()"
   ]
  },
  {
   "cell_type": "code",
   "execution_count": 4,
   "id": "d8bfd908",
   "metadata": {},
   "outputs": [
    {
     "data": {
      "text/plain": [
       "Index(['ID', 'Year_Birth', 'Education', 'Marital_Status', 'Income', 'Kidhome',\n",
       "       'Teenhome', 'Dt_Customer', 'Recency', 'MntWines', 'MntFruits',\n",
       "       'MntMeatProducts', 'MntFishProducts', 'MntSweetProducts',\n",
       "       'MntGoldProds', 'NumDealsPurchases', 'NumWebPurchases',\n",
       "       'NumCatalogPurchases', 'NumStorePurchases', 'NumWebVisitsMonth',\n",
       "       'AcceptedCmp3', 'AcceptedCmp4', 'AcceptedCmp5', 'AcceptedCmp1',\n",
       "       'AcceptedCmp2', 'Complain', 'Z_CostContact', 'Z_Revenue', 'Response'],\n",
       "      dtype='object')"
      ]
     },
     "execution_count": 4,
     "metadata": {},
     "output_type": "execute_result"
    }
   ],
   "source": [
    "df.columns"
   ]
  },
  {
   "cell_type": "code",
   "execution_count": 5,
   "id": "0bd51f49",
   "metadata": {},
   "outputs": [
    {
     "data": {
      "text/plain": [
       "(2240, 29)"
      ]
     },
     "execution_count": 5,
     "metadata": {},
     "output_type": "execute_result"
    }
   ],
   "source": [
    "df.shape"
   ]
  },
  {
   "cell_type": "code",
   "execution_count": 6,
   "id": "baa6b4c1",
   "metadata": {},
   "outputs": [
    {
     "name": "stdout",
     "output_type": "stream",
     "text": [
      "<class 'pandas.core.frame.DataFrame'>\n",
      "RangeIndex: 2240 entries, 0 to 2239\n",
      "Data columns (total 29 columns):\n",
      " #   Column               Non-Null Count  Dtype  \n",
      "---  ------               --------------  -----  \n",
      " 0   ID                   2240 non-null   int64  \n",
      " 1   Year_Birth           2240 non-null   int64  \n",
      " 2   Education            2240 non-null   object \n",
      " 3   Marital_Status       2240 non-null   object \n",
      " 4   Income               2216 non-null   float64\n",
      " 5   Kidhome              2240 non-null   int64  \n",
      " 6   Teenhome             2240 non-null   int64  \n",
      " 7   Dt_Customer          2240 non-null   object \n",
      " 8   Recency              2240 non-null   int64  \n",
      " 9   MntWines             2240 non-null   int64  \n",
      " 10  MntFruits            2240 non-null   int64  \n",
      " 11  MntMeatProducts      2240 non-null   int64  \n",
      " 12  MntFishProducts      2240 non-null   int64  \n",
      " 13  MntSweetProducts     2240 non-null   int64  \n",
      " 14  MntGoldProds         2240 non-null   int64  \n",
      " 15  NumDealsPurchases    2240 non-null   int64  \n",
      " 16  NumWebPurchases      2240 non-null   int64  \n",
      " 17  NumCatalogPurchases  2240 non-null   int64  \n",
      " 18  NumStorePurchases    2240 non-null   int64  \n",
      " 19  NumWebVisitsMonth    2240 non-null   int64  \n",
      " 20  AcceptedCmp3         2240 non-null   int64  \n",
      " 21  AcceptedCmp4         2240 non-null   int64  \n",
      " 22  AcceptedCmp5         2240 non-null   int64  \n",
      " 23  AcceptedCmp1         2240 non-null   int64  \n",
      " 24  AcceptedCmp2         2240 non-null   int64  \n",
      " 25  Complain             2240 non-null   int64  \n",
      " 26  Z_CostContact        2240 non-null   int64  \n",
      " 27  Z_Revenue            2240 non-null   int64  \n",
      " 28  Response             2240 non-null   int64  \n",
      "dtypes: float64(1), int64(25), object(3)\n",
      "memory usage: 507.6+ KB\n"
     ]
    }
   ],
   "source": [
    "df.info()"
   ]
  },
  {
   "cell_type": "code",
   "execution_count": 7,
   "id": "e97246af",
   "metadata": {},
   "outputs": [
    {
     "data": {
      "application/vnd.microsoft.datawrangler.viewer.v0+json": {
       "columns": [
        {
         "name": "index",
         "rawType": "object",
         "type": "string"
        },
        {
         "name": "0",
         "rawType": "int64",
         "type": "integer"
        }
       ],
       "ref": "d09da6bd-078e-4a61-92a7-c18141215c12",
       "rows": [
        [
         "ID",
         "0"
        ],
        [
         "Year_Birth",
         "0"
        ],
        [
         "Education",
         "0"
        ],
        [
         "Marital_Status",
         "0"
        ],
        [
         "Income",
         "24"
        ],
        [
         "Kidhome",
         "0"
        ],
        [
         "Teenhome",
         "0"
        ],
        [
         "Dt_Customer",
         "0"
        ],
        [
         "Recency",
         "0"
        ],
        [
         "MntWines",
         "0"
        ],
        [
         "MntFruits",
         "0"
        ],
        [
         "MntMeatProducts",
         "0"
        ],
        [
         "MntFishProducts",
         "0"
        ],
        [
         "MntSweetProducts",
         "0"
        ],
        [
         "MntGoldProds",
         "0"
        ],
        [
         "NumDealsPurchases",
         "0"
        ],
        [
         "NumWebPurchases",
         "0"
        ],
        [
         "NumCatalogPurchases",
         "0"
        ],
        [
         "NumStorePurchases",
         "0"
        ],
        [
         "NumWebVisitsMonth",
         "0"
        ],
        [
         "AcceptedCmp3",
         "0"
        ],
        [
         "AcceptedCmp4",
         "0"
        ],
        [
         "AcceptedCmp5",
         "0"
        ],
        [
         "AcceptedCmp1",
         "0"
        ],
        [
         "AcceptedCmp2",
         "0"
        ],
        [
         "Complain",
         "0"
        ],
        [
         "Z_CostContact",
         "0"
        ],
        [
         "Z_Revenue",
         "0"
        ],
        [
         "Response",
         "0"
        ]
       ],
       "shape": {
        "columns": 1,
        "rows": 29
       }
      },
      "text/plain": [
       "ID                      0\n",
       "Year_Birth              0\n",
       "Education               0\n",
       "Marital_Status          0\n",
       "Income                 24\n",
       "Kidhome                 0\n",
       "Teenhome                0\n",
       "Dt_Customer             0\n",
       "Recency                 0\n",
       "MntWines                0\n",
       "MntFruits               0\n",
       "MntMeatProducts         0\n",
       "MntFishProducts         0\n",
       "MntSweetProducts        0\n",
       "MntGoldProds            0\n",
       "NumDealsPurchases       0\n",
       "NumWebPurchases         0\n",
       "NumCatalogPurchases     0\n",
       "NumStorePurchases       0\n",
       "NumWebVisitsMonth       0\n",
       "AcceptedCmp3            0\n",
       "AcceptedCmp4            0\n",
       "AcceptedCmp5            0\n",
       "AcceptedCmp1            0\n",
       "AcceptedCmp2            0\n",
       "Complain                0\n",
       "Z_CostContact           0\n",
       "Z_Revenue               0\n",
       "Response                0\n",
       "dtype: int64"
      ]
     },
     "execution_count": 7,
     "metadata": {},
     "output_type": "execute_result"
    }
   ],
   "source": [
    "df.isna().sum()"
   ]
  },
  {
   "cell_type": "code",
   "execution_count": 8,
   "id": "e2be2cc9",
   "metadata": {},
   "outputs": [],
   "source": [
    "df.dropna(inplace=True)"
   ]
  },
  {
   "cell_type": "code",
   "execution_count": 9,
   "id": "b5fca4ce",
   "metadata": {},
   "outputs": [
    {
     "data": {
      "text/plain": [
       "0"
      ]
     },
     "execution_count": 9,
     "metadata": {},
     "output_type": "execute_result"
    }
   ],
   "source": [
    "df.isna().sum().sum()"
   ]
  },
  {
   "cell_type": "code",
   "execution_count": 10,
   "id": "1656886d",
   "metadata": {},
   "outputs": [
    {
     "data": {
      "application/vnd.microsoft.datawrangler.viewer.v0+json": {
       "columns": [
        {
         "name": "index",
         "rawType": "object",
         "type": "string"
        },
        {
         "name": "ID",
         "rawType": "float64",
         "type": "float"
        },
        {
         "name": "Year_Birth",
         "rawType": "float64",
         "type": "float"
        },
        {
         "name": "Income",
         "rawType": "float64",
         "type": "float"
        },
        {
         "name": "Kidhome",
         "rawType": "float64",
         "type": "float"
        },
        {
         "name": "Teenhome",
         "rawType": "float64",
         "type": "float"
        },
        {
         "name": "Recency",
         "rawType": "float64",
         "type": "float"
        },
        {
         "name": "MntWines",
         "rawType": "float64",
         "type": "float"
        },
        {
         "name": "MntFruits",
         "rawType": "float64",
         "type": "float"
        },
        {
         "name": "MntMeatProducts",
         "rawType": "float64",
         "type": "float"
        },
        {
         "name": "MntFishProducts",
         "rawType": "float64",
         "type": "float"
        },
        {
         "name": "MntSweetProducts",
         "rawType": "float64",
         "type": "float"
        },
        {
         "name": "MntGoldProds",
         "rawType": "float64",
         "type": "float"
        },
        {
         "name": "NumDealsPurchases",
         "rawType": "float64",
         "type": "float"
        },
        {
         "name": "NumWebPurchases",
         "rawType": "float64",
         "type": "float"
        },
        {
         "name": "NumCatalogPurchases",
         "rawType": "float64",
         "type": "float"
        },
        {
         "name": "NumStorePurchases",
         "rawType": "float64",
         "type": "float"
        },
        {
         "name": "NumWebVisitsMonth",
         "rawType": "float64",
         "type": "float"
        },
        {
         "name": "AcceptedCmp3",
         "rawType": "float64",
         "type": "float"
        },
        {
         "name": "AcceptedCmp4",
         "rawType": "float64",
         "type": "float"
        },
        {
         "name": "AcceptedCmp5",
         "rawType": "float64",
         "type": "float"
        },
        {
         "name": "AcceptedCmp1",
         "rawType": "float64",
         "type": "float"
        },
        {
         "name": "AcceptedCmp2",
         "rawType": "float64",
         "type": "float"
        },
        {
         "name": "Complain",
         "rawType": "float64",
         "type": "float"
        },
        {
         "name": "Z_CostContact",
         "rawType": "float64",
         "type": "float"
        },
        {
         "name": "Z_Revenue",
         "rawType": "float64",
         "type": "float"
        },
        {
         "name": "Response",
         "rawType": "float64",
         "type": "float"
        }
       ],
       "ref": "c6195e6f-c027-41d2-8de8-9c10f5829353",
       "rows": [
        [
         "count",
         "2216.0",
         "2216.0",
         "2216.0",
         "2216.0",
         "2216.0",
         "2216.0",
         "2216.0",
         "2216.0",
         "2216.0",
         "2216.0",
         "2216.0",
         "2216.0",
         "2216.0",
         "2216.0",
         "2216.0",
         "2216.0",
         "2216.0",
         "2216.0",
         "2216.0",
         "2216.0",
         "2216.0",
         "2216.0",
         "2216.0",
         "2216.0",
         "2216.0",
         "2216.0"
        ],
        [
         "mean",
         "5588.35333935018",
         "1968.8203971119133",
         "52247.25135379061",
         "0.4417870036101083",
         "0.5054151624548736",
         "49.01263537906137",
         "305.09160649819495",
         "26.356046931407942",
         "166.99593862815885",
         "37.63763537906137",
         "27.028880866425993",
         "43.96525270758123",
         "2.3235559566787005",
         "4.08528880866426",
         "2.671028880866426",
         "5.800992779783393",
         "5.319043321299639",
         "0.07355595667870037",
         "0.0740072202166065",
         "0.07310469314079422",
         "0.06407942238267147",
         "0.013537906137184115",
         "0.00947653429602888",
         "3.0",
         "11.0",
         "0.15027075812274368"
        ],
        [
         "std",
         "3249.3762748134714",
         "11.985554097352383",
         "25173.076660901403",
         "0.5368962401346713",
         "0.5441812115403034",
         "28.948351658624986",
         "337.32792011667175",
         "39.793916518238696",
         "224.2832727589816",
         "54.75208241485161",
         "41.07204566698226",
         "51.81541437447367",
         "1.9237156460114948",
         "2.7409510810147237",
         "2.9267336360080134",
         "3.250784785670522",
         "2.425358540606444",
         "0.2611058087606731",
         "0.2618417283260366",
         "0.26036702668143413",
         "0.24494963965914912",
         "0.11558832299800817",
         "0.09690700384872121",
         "0.0",
         "0.0",
         "0.35741727012906493"
        ],
        [
         "min",
         "0.0",
         "1893.0",
         "1730.0",
         "0.0",
         "0.0",
         "0.0",
         "0.0",
         "0.0",
         "0.0",
         "0.0",
         "0.0",
         "0.0",
         "0.0",
         "0.0",
         "0.0",
         "0.0",
         "0.0",
         "0.0",
         "0.0",
         "0.0",
         "0.0",
         "0.0",
         "0.0",
         "3.0",
         "11.0",
         "0.0"
        ],
        [
         "25%",
         "2814.75",
         "1959.0",
         "35303.0",
         "0.0",
         "0.0",
         "24.0",
         "24.0",
         "2.0",
         "16.0",
         "3.0",
         "1.0",
         "9.0",
         "1.0",
         "2.0",
         "0.0",
         "3.0",
         "3.0",
         "0.0",
         "0.0",
         "0.0",
         "0.0",
         "0.0",
         "0.0",
         "3.0",
         "11.0",
         "0.0"
        ],
        [
         "50%",
         "5458.5",
         "1970.0",
         "51381.5",
         "0.0",
         "0.0",
         "49.0",
         "174.5",
         "8.0",
         "68.0",
         "12.0",
         "8.0",
         "24.5",
         "2.0",
         "4.0",
         "2.0",
         "5.0",
         "6.0",
         "0.0",
         "0.0",
         "0.0",
         "0.0",
         "0.0",
         "0.0",
         "3.0",
         "11.0",
         "0.0"
        ],
        [
         "75%",
         "8421.75",
         "1977.0",
         "68522.0",
         "1.0",
         "1.0",
         "74.0",
         "505.0",
         "33.0",
         "232.25",
         "50.0",
         "33.0",
         "56.0",
         "3.0",
         "6.0",
         "4.0",
         "8.0",
         "7.0",
         "0.0",
         "0.0",
         "0.0",
         "0.0",
         "0.0",
         "0.0",
         "3.0",
         "11.0",
         "0.0"
        ],
        [
         "max",
         "11191.0",
         "1996.0",
         "666666.0",
         "2.0",
         "2.0",
         "99.0",
         "1493.0",
         "199.0",
         "1725.0",
         "259.0",
         "262.0",
         "321.0",
         "15.0",
         "27.0",
         "28.0",
         "13.0",
         "20.0",
         "1.0",
         "1.0",
         "1.0",
         "1.0",
         "1.0",
         "1.0",
         "3.0",
         "11.0",
         "1.0"
        ]
       ],
       "shape": {
        "columns": 26,
        "rows": 8
       }
      },
      "text/html": [
       "<div>\n",
       "<style scoped>\n",
       "    .dataframe tbody tr th:only-of-type {\n",
       "        vertical-align: middle;\n",
       "    }\n",
       "\n",
       "    .dataframe tbody tr th {\n",
       "        vertical-align: top;\n",
       "    }\n",
       "\n",
       "    .dataframe thead th {\n",
       "        text-align: right;\n",
       "    }\n",
       "</style>\n",
       "<table border=\"1\" class=\"dataframe\">\n",
       "  <thead>\n",
       "    <tr style=\"text-align: right;\">\n",
       "      <th></th>\n",
       "      <th>ID</th>\n",
       "      <th>Year_Birth</th>\n",
       "      <th>Income</th>\n",
       "      <th>Kidhome</th>\n",
       "      <th>Teenhome</th>\n",
       "      <th>Recency</th>\n",
       "      <th>MntWines</th>\n",
       "      <th>MntFruits</th>\n",
       "      <th>MntMeatProducts</th>\n",
       "      <th>MntFishProducts</th>\n",
       "      <th>...</th>\n",
       "      <th>NumWebVisitsMonth</th>\n",
       "      <th>AcceptedCmp3</th>\n",
       "      <th>AcceptedCmp4</th>\n",
       "      <th>AcceptedCmp5</th>\n",
       "      <th>AcceptedCmp1</th>\n",
       "      <th>AcceptedCmp2</th>\n",
       "      <th>Complain</th>\n",
       "      <th>Z_CostContact</th>\n",
       "      <th>Z_Revenue</th>\n",
       "      <th>Response</th>\n",
       "    </tr>\n",
       "  </thead>\n",
       "  <tbody>\n",
       "    <tr>\n",
       "      <th>count</th>\n",
       "      <td>2216.000000</td>\n",
       "      <td>2216.000000</td>\n",
       "      <td>2216.000000</td>\n",
       "      <td>2216.000000</td>\n",
       "      <td>2216.000000</td>\n",
       "      <td>2216.000000</td>\n",
       "      <td>2216.000000</td>\n",
       "      <td>2216.000000</td>\n",
       "      <td>2216.000000</td>\n",
       "      <td>2216.000000</td>\n",
       "      <td>...</td>\n",
       "      <td>2216.000000</td>\n",
       "      <td>2216.000000</td>\n",
       "      <td>2216.000000</td>\n",
       "      <td>2216.000000</td>\n",
       "      <td>2216.000000</td>\n",
       "      <td>2216.000000</td>\n",
       "      <td>2216.000000</td>\n",
       "      <td>2216.0</td>\n",
       "      <td>2216.0</td>\n",
       "      <td>2216.000000</td>\n",
       "    </tr>\n",
       "    <tr>\n",
       "      <th>mean</th>\n",
       "      <td>5588.353339</td>\n",
       "      <td>1968.820397</td>\n",
       "      <td>52247.251354</td>\n",
       "      <td>0.441787</td>\n",
       "      <td>0.505415</td>\n",
       "      <td>49.012635</td>\n",
       "      <td>305.091606</td>\n",
       "      <td>26.356047</td>\n",
       "      <td>166.995939</td>\n",
       "      <td>37.637635</td>\n",
       "      <td>...</td>\n",
       "      <td>5.319043</td>\n",
       "      <td>0.073556</td>\n",
       "      <td>0.074007</td>\n",
       "      <td>0.073105</td>\n",
       "      <td>0.064079</td>\n",
       "      <td>0.013538</td>\n",
       "      <td>0.009477</td>\n",
       "      <td>3.0</td>\n",
       "      <td>11.0</td>\n",
       "      <td>0.150271</td>\n",
       "    </tr>\n",
       "    <tr>\n",
       "      <th>std</th>\n",
       "      <td>3249.376275</td>\n",
       "      <td>11.985554</td>\n",
       "      <td>25173.076661</td>\n",
       "      <td>0.536896</td>\n",
       "      <td>0.544181</td>\n",
       "      <td>28.948352</td>\n",
       "      <td>337.327920</td>\n",
       "      <td>39.793917</td>\n",
       "      <td>224.283273</td>\n",
       "      <td>54.752082</td>\n",
       "      <td>...</td>\n",
       "      <td>2.425359</td>\n",
       "      <td>0.261106</td>\n",
       "      <td>0.261842</td>\n",
       "      <td>0.260367</td>\n",
       "      <td>0.244950</td>\n",
       "      <td>0.115588</td>\n",
       "      <td>0.096907</td>\n",
       "      <td>0.0</td>\n",
       "      <td>0.0</td>\n",
       "      <td>0.357417</td>\n",
       "    </tr>\n",
       "    <tr>\n",
       "      <th>min</th>\n",
       "      <td>0.000000</td>\n",
       "      <td>1893.000000</td>\n",
       "      <td>1730.000000</td>\n",
       "      <td>0.000000</td>\n",
       "      <td>0.000000</td>\n",
       "      <td>0.000000</td>\n",
       "      <td>0.000000</td>\n",
       "      <td>0.000000</td>\n",
       "      <td>0.000000</td>\n",
       "      <td>0.000000</td>\n",
       "      <td>...</td>\n",
       "      <td>0.000000</td>\n",
       "      <td>0.000000</td>\n",
       "      <td>0.000000</td>\n",
       "      <td>0.000000</td>\n",
       "      <td>0.000000</td>\n",
       "      <td>0.000000</td>\n",
       "      <td>0.000000</td>\n",
       "      <td>3.0</td>\n",
       "      <td>11.0</td>\n",
       "      <td>0.000000</td>\n",
       "    </tr>\n",
       "    <tr>\n",
       "      <th>25%</th>\n",
       "      <td>2814.750000</td>\n",
       "      <td>1959.000000</td>\n",
       "      <td>35303.000000</td>\n",
       "      <td>0.000000</td>\n",
       "      <td>0.000000</td>\n",
       "      <td>24.000000</td>\n",
       "      <td>24.000000</td>\n",
       "      <td>2.000000</td>\n",
       "      <td>16.000000</td>\n",
       "      <td>3.000000</td>\n",
       "      <td>...</td>\n",
       "      <td>3.000000</td>\n",
       "      <td>0.000000</td>\n",
       "      <td>0.000000</td>\n",
       "      <td>0.000000</td>\n",
       "      <td>0.000000</td>\n",
       "      <td>0.000000</td>\n",
       "      <td>0.000000</td>\n",
       "      <td>3.0</td>\n",
       "      <td>11.0</td>\n",
       "      <td>0.000000</td>\n",
       "    </tr>\n",
       "    <tr>\n",
       "      <th>50%</th>\n",
       "      <td>5458.500000</td>\n",
       "      <td>1970.000000</td>\n",
       "      <td>51381.500000</td>\n",
       "      <td>0.000000</td>\n",
       "      <td>0.000000</td>\n",
       "      <td>49.000000</td>\n",
       "      <td>174.500000</td>\n",
       "      <td>8.000000</td>\n",
       "      <td>68.000000</td>\n",
       "      <td>12.000000</td>\n",
       "      <td>...</td>\n",
       "      <td>6.000000</td>\n",
       "      <td>0.000000</td>\n",
       "      <td>0.000000</td>\n",
       "      <td>0.000000</td>\n",
       "      <td>0.000000</td>\n",
       "      <td>0.000000</td>\n",
       "      <td>0.000000</td>\n",
       "      <td>3.0</td>\n",
       "      <td>11.0</td>\n",
       "      <td>0.000000</td>\n",
       "    </tr>\n",
       "    <tr>\n",
       "      <th>75%</th>\n",
       "      <td>8421.750000</td>\n",
       "      <td>1977.000000</td>\n",
       "      <td>68522.000000</td>\n",
       "      <td>1.000000</td>\n",
       "      <td>1.000000</td>\n",
       "      <td>74.000000</td>\n",
       "      <td>505.000000</td>\n",
       "      <td>33.000000</td>\n",
       "      <td>232.250000</td>\n",
       "      <td>50.000000</td>\n",
       "      <td>...</td>\n",
       "      <td>7.000000</td>\n",
       "      <td>0.000000</td>\n",
       "      <td>0.000000</td>\n",
       "      <td>0.000000</td>\n",
       "      <td>0.000000</td>\n",
       "      <td>0.000000</td>\n",
       "      <td>0.000000</td>\n",
       "      <td>3.0</td>\n",
       "      <td>11.0</td>\n",
       "      <td>0.000000</td>\n",
       "    </tr>\n",
       "    <tr>\n",
       "      <th>max</th>\n",
       "      <td>11191.000000</td>\n",
       "      <td>1996.000000</td>\n",
       "      <td>666666.000000</td>\n",
       "      <td>2.000000</td>\n",
       "      <td>2.000000</td>\n",
       "      <td>99.000000</td>\n",
       "      <td>1493.000000</td>\n",
       "      <td>199.000000</td>\n",
       "      <td>1725.000000</td>\n",
       "      <td>259.000000</td>\n",
       "      <td>...</td>\n",
       "      <td>20.000000</td>\n",
       "      <td>1.000000</td>\n",
       "      <td>1.000000</td>\n",
       "      <td>1.000000</td>\n",
       "      <td>1.000000</td>\n",
       "      <td>1.000000</td>\n",
       "      <td>1.000000</td>\n",
       "      <td>3.0</td>\n",
       "      <td>11.0</td>\n",
       "      <td>1.000000</td>\n",
       "    </tr>\n",
       "  </tbody>\n",
       "</table>\n",
       "<p>8 rows × 26 columns</p>\n",
       "</div>"
      ],
      "text/plain": [
       "                 ID   Year_Birth         Income      Kidhome     Teenhome  \\\n",
       "count   2216.000000  2216.000000    2216.000000  2216.000000  2216.000000   \n",
       "mean    5588.353339  1968.820397   52247.251354     0.441787     0.505415   \n",
       "std     3249.376275    11.985554   25173.076661     0.536896     0.544181   \n",
       "min        0.000000  1893.000000    1730.000000     0.000000     0.000000   \n",
       "25%     2814.750000  1959.000000   35303.000000     0.000000     0.000000   \n",
       "50%     5458.500000  1970.000000   51381.500000     0.000000     0.000000   \n",
       "75%     8421.750000  1977.000000   68522.000000     1.000000     1.000000   \n",
       "max    11191.000000  1996.000000  666666.000000     2.000000     2.000000   \n",
       "\n",
       "           Recency     MntWines    MntFruits  MntMeatProducts  \\\n",
       "count  2216.000000  2216.000000  2216.000000      2216.000000   \n",
       "mean     49.012635   305.091606    26.356047       166.995939   \n",
       "std      28.948352   337.327920    39.793917       224.283273   \n",
       "min       0.000000     0.000000     0.000000         0.000000   \n",
       "25%      24.000000    24.000000     2.000000        16.000000   \n",
       "50%      49.000000   174.500000     8.000000        68.000000   \n",
       "75%      74.000000   505.000000    33.000000       232.250000   \n",
       "max      99.000000  1493.000000   199.000000      1725.000000   \n",
       "\n",
       "       MntFishProducts  ...  NumWebVisitsMonth  AcceptedCmp3  AcceptedCmp4  \\\n",
       "count      2216.000000  ...        2216.000000   2216.000000   2216.000000   \n",
       "mean         37.637635  ...           5.319043      0.073556      0.074007   \n",
       "std          54.752082  ...           2.425359      0.261106      0.261842   \n",
       "min           0.000000  ...           0.000000      0.000000      0.000000   \n",
       "25%           3.000000  ...           3.000000      0.000000      0.000000   \n",
       "50%          12.000000  ...           6.000000      0.000000      0.000000   \n",
       "75%          50.000000  ...           7.000000      0.000000      0.000000   \n",
       "max         259.000000  ...          20.000000      1.000000      1.000000   \n",
       "\n",
       "       AcceptedCmp5  AcceptedCmp1  AcceptedCmp2     Complain  Z_CostContact  \\\n",
       "count   2216.000000   2216.000000   2216.000000  2216.000000         2216.0   \n",
       "mean       0.073105      0.064079      0.013538     0.009477            3.0   \n",
       "std        0.260367      0.244950      0.115588     0.096907            0.0   \n",
       "min        0.000000      0.000000      0.000000     0.000000            3.0   \n",
       "25%        0.000000      0.000000      0.000000     0.000000            3.0   \n",
       "50%        0.000000      0.000000      0.000000     0.000000            3.0   \n",
       "75%        0.000000      0.000000      0.000000     0.000000            3.0   \n",
       "max        1.000000      1.000000      1.000000     1.000000            3.0   \n",
       "\n",
       "       Z_Revenue     Response  \n",
       "count     2216.0  2216.000000  \n",
       "mean        11.0     0.150271  \n",
       "std          0.0     0.357417  \n",
       "min         11.0     0.000000  \n",
       "25%         11.0     0.000000  \n",
       "50%         11.0     0.000000  \n",
       "75%         11.0     0.000000  \n",
       "max         11.0     1.000000  \n",
       "\n",
       "[8 rows x 26 columns]"
      ]
     },
     "execution_count": 10,
     "metadata": {},
     "output_type": "execute_result"
    }
   ],
   "source": [
    "df.describe()"
   ]
  },
  {
   "cell_type": "code",
   "execution_count": 11,
   "id": "904439e8",
   "metadata": {},
   "outputs": [
    {
     "data": {
      "application/vnd.microsoft.datawrangler.viewer.v0+json": {
       "columns": [
        {
         "name": "Education",
         "rawType": "object",
         "type": "string"
        },
        {
         "name": "count",
         "rawType": "int64",
         "type": "integer"
        }
       ],
       "ref": "64929801-1475-431d-bf49-9f4489542b33",
       "rows": [
        [
         "Graduation",
         "1116"
        ],
        [
         "PhD",
         "481"
        ],
        [
         "Master",
         "365"
        ],
        [
         "2n Cycle",
         "200"
        ],
        [
         "Basic",
         "54"
        ]
       ],
       "shape": {
        "columns": 1,
        "rows": 5
       }
      },
      "text/plain": [
       "Education\n",
       "Graduation    1116\n",
       "PhD            481\n",
       "Master         365\n",
       "2n Cycle       200\n",
       "Basic           54\n",
       "Name: count, dtype: int64"
      ]
     },
     "execution_count": 11,
     "metadata": {},
     "output_type": "execute_result"
    }
   ],
   "source": [
    "df[\"Education\"].value_counts()"
   ]
  },
  {
   "cell_type": "code",
   "execution_count": 12,
   "id": "cf8cfe45",
   "metadata": {},
   "outputs": [
    {
     "data": {
      "application/vnd.microsoft.datawrangler.viewer.v0+json": {
       "columns": [
        {
         "name": "Marital_Status",
         "rawType": "object",
         "type": "string"
        },
        {
         "name": "count",
         "rawType": "int64",
         "type": "integer"
        }
       ],
       "ref": "7031d9d9-e521-4bd5-9f46-7f53364bc7be",
       "rows": [
        [
         "Married",
         "857"
        ],
        [
         "Together",
         "573"
        ],
        [
         "Single",
         "471"
        ],
        [
         "Divorced",
         "232"
        ],
        [
         "Widow",
         "76"
        ],
        [
         "Alone",
         "3"
        ],
        [
         "Absurd",
         "2"
        ],
        [
         "YOLO",
         "2"
        ]
       ],
       "shape": {
        "columns": 1,
        "rows": 8
       }
      },
      "text/plain": [
       "Marital_Status\n",
       "Married     857\n",
       "Together    573\n",
       "Single      471\n",
       "Divorced    232\n",
       "Widow        76\n",
       "Alone         3\n",
       "Absurd        2\n",
       "YOLO          2\n",
       "Name: count, dtype: int64"
      ]
     },
     "execution_count": 12,
     "metadata": {},
     "output_type": "execute_result"
    }
   ],
   "source": [
    "df[\"Marital_Status\"].value_counts()"
   ]
  },
  {
   "cell_type": "code",
   "execution_count": 13,
   "id": "74ce1d8c",
   "metadata": {},
   "outputs": [],
   "source": [
    "df[\"Dt_Customer\"] = pd.to_datetime(df[\"Dt_Customer\"], dayfirst=True)"
   ]
  },
  {
   "cell_type": "code",
   "execution_count": 14,
   "id": "194497e2",
   "metadata": {},
   "outputs": [
    {
     "name": "stdout",
     "output_type": "stream",
     "text": [
      "<class 'pandas.core.frame.DataFrame'>\n",
      "Index: 2216 entries, 0 to 2239\n",
      "Data columns (total 29 columns):\n",
      " #   Column               Non-Null Count  Dtype         \n",
      "---  ------               --------------  -----         \n",
      " 0   ID                   2216 non-null   int64         \n",
      " 1   Year_Birth           2216 non-null   int64         \n",
      " 2   Education            2216 non-null   object        \n",
      " 3   Marital_Status       2216 non-null   object        \n",
      " 4   Income               2216 non-null   float64       \n",
      " 5   Kidhome              2216 non-null   int64         \n",
      " 6   Teenhome             2216 non-null   int64         \n",
      " 7   Dt_Customer          2216 non-null   datetime64[ns]\n",
      " 8   Recency              2216 non-null   int64         \n",
      " 9   MntWines             2216 non-null   int64         \n",
      " 10  MntFruits            2216 non-null   int64         \n",
      " 11  MntMeatProducts      2216 non-null   int64         \n",
      " 12  MntFishProducts      2216 non-null   int64         \n",
      " 13  MntSweetProducts     2216 non-null   int64         \n",
      " 14  MntGoldProds         2216 non-null   int64         \n",
      " 15  NumDealsPurchases    2216 non-null   int64         \n",
      " 16  NumWebPurchases      2216 non-null   int64         \n",
      " 17  NumCatalogPurchases  2216 non-null   int64         \n",
      " 18  NumStorePurchases    2216 non-null   int64         \n",
      " 19  NumWebVisitsMonth    2216 non-null   int64         \n",
      " 20  AcceptedCmp3         2216 non-null   int64         \n",
      " 21  AcceptedCmp4         2216 non-null   int64         \n",
      " 22  AcceptedCmp5         2216 non-null   int64         \n",
      " 23  AcceptedCmp1         2216 non-null   int64         \n",
      " 24  AcceptedCmp2         2216 non-null   int64         \n",
      " 25  Complain             2216 non-null   int64         \n",
      " 26  Z_CostContact        2216 non-null   int64         \n",
      " 27  Z_Revenue            2216 non-null   int64         \n",
      " 28  Response             2216 non-null   int64         \n",
      "dtypes: datetime64[ns](1), float64(1), int64(25), object(2)\n",
      "memory usage: 519.4+ KB\n"
     ]
    }
   ],
   "source": [
    "df.info()"
   ]
  },
  {
   "cell_type": "code",
   "execution_count": 15,
   "id": "8b5f1378",
   "metadata": {},
   "outputs": [],
   "source": [
    "df[\"Age\"] = 2025 - df[\"Year_Birth\"]"
   ]
  },
  {
   "cell_type": "code",
   "execution_count": 16,
   "id": "b8561ae0",
   "metadata": {},
   "outputs": [
    {
     "data": {
      "application/vnd.microsoft.datawrangler.viewer.v0+json": {
       "columns": [
        {
         "name": "index",
         "rawType": "int64",
         "type": "integer"
        },
        {
         "name": "Age",
         "rawType": "int64",
         "type": "integer"
        }
       ],
       "ref": "3fe5f672-c978-4396-b0a6-ee41ccbee54c",
       "rows": [
        [
         "0",
         "68"
        ],
        [
         "1",
         "71"
        ],
        [
         "2",
         "60"
        ],
        [
         "3",
         "41"
        ],
        [
         "4",
         "44"
        ],
        [
         "5",
         "58"
        ],
        [
         "6",
         "54"
        ],
        [
         "7",
         "40"
        ],
        [
         "8",
         "51"
        ],
        [
         "9",
         "75"
        ],
        [
         "11",
         "49"
        ],
        [
         "12",
         "66"
        ],
        [
         "13",
         "73"
        ],
        [
         "14",
         "38"
        ],
        [
         "15",
         "79"
        ],
        [
         "16",
         "45"
        ],
        [
         "17",
         "79"
        ],
        [
         "18",
         "76"
        ],
        [
         "19",
         "40"
        ],
        [
         "20",
         "43"
        ],
        [
         "21",
         "46"
        ],
        [
         "22",
         "76"
        ],
        [
         "23",
         "71"
        ],
        [
         "24",
         "74"
        ],
        [
         "25",
         "56"
        ],
        [
         "26",
         "49"
        ],
        [
         "28",
         "36"
        ],
        [
         "29",
         "60"
        ],
        [
         "30",
         "36"
        ],
        [
         "31",
         "62"
        ],
        [
         "32",
         "55"
        ],
        [
         "33",
         "73"
        ],
        [
         "34",
         "79"
        ],
        [
         "35",
         "74"
        ],
        [
         "36",
         "55"
        ],
        [
         "37",
         "49"
        ],
        [
         "38",
         "52"
        ],
        [
         "39",
         "82"
        ],
        [
         "40",
         "45"
        ],
        [
         "41",
         "40"
        ],
        [
         "42",
         "68"
        ],
        [
         "44",
         "50"
        ],
        [
         "45",
         "49"
        ],
        [
         "46",
         "29"
        ],
        [
         "47",
         "57"
        ],
        [
         "49",
         "71"
        ],
        [
         "50",
         "68"
        ],
        [
         "51",
         "61"
        ],
        [
         "52",
         "48"
        ],
        [
         "53",
         "48"
        ]
       ],
       "shape": {
        "columns": 1,
        "rows": 2216
       }
      },
      "text/plain": [
       "0       68\n",
       "1       71\n",
       "2       60\n",
       "3       41\n",
       "4       44\n",
       "        ..\n",
       "2235    58\n",
       "2236    79\n",
       "2237    44\n",
       "2238    69\n",
       "2239    71\n",
       "Name: Age, Length: 2216, dtype: int64"
      ]
     },
     "execution_count": 16,
     "metadata": {},
     "output_type": "execute_result"
    }
   ],
   "source": [
    "df[\"Age\"]"
   ]
  },
  {
   "cell_type": "code",
   "execution_count": 17,
   "id": "10b974af",
   "metadata": {},
   "outputs": [],
   "source": [
    "df[\"Total_Children\"] = df[\"Kidhome\"] + df[\"Teenhome\"]"
   ]
  },
  {
   "cell_type": "code",
   "execution_count": 18,
   "id": "aae557b9",
   "metadata": {},
   "outputs": [
    {
     "data": {
      "application/vnd.microsoft.datawrangler.viewer.v0+json": {
       "columns": [
        {
         "name": "index",
         "rawType": "int64",
         "type": "integer"
        },
        {
         "name": "Total_Children",
         "rawType": "int64",
         "type": "integer"
        }
       ],
       "ref": "600f1e9e-2b89-4efa-8649-f33d79dfbbfe",
       "rows": [
        [
         "0",
         "0"
        ],
        [
         "1",
         "2"
        ],
        [
         "2",
         "0"
        ],
        [
         "3",
         "1"
        ],
        [
         "4",
         "1"
        ],
        [
         "5",
         "1"
        ],
        [
         "6",
         "1"
        ],
        [
         "7",
         "1"
        ],
        [
         "8",
         "1"
        ],
        [
         "9",
         "2"
        ],
        [
         "11",
         "0"
        ],
        [
         "12",
         "0"
        ],
        [
         "13",
         "2"
        ],
        [
         "14",
         "0"
        ],
        [
         "15",
         "0"
        ],
        [
         "16",
         "2"
        ],
        [
         "17",
         "0"
        ],
        [
         "18",
         "1"
        ],
        [
         "19",
         "1"
        ],
        [
         "20",
         "0"
        ],
        [
         "21",
         "1"
        ],
        [
         "22",
         "1"
        ],
        [
         "23",
         "1"
        ],
        [
         "24",
         "1"
        ],
        [
         "25",
         "0"
        ],
        [
         "26",
         "2"
        ],
        [
         "28",
         "1"
        ],
        [
         "29",
         "0"
        ],
        [
         "30",
         "0"
        ],
        [
         "31",
         "0"
        ],
        [
         "32",
         "1"
        ],
        [
         "33",
         "2"
        ],
        [
         "34",
         "0"
        ],
        [
         "35",
         "2"
        ],
        [
         "36",
         "1"
        ],
        [
         "37",
         "1"
        ],
        [
         "38",
         "1"
        ],
        [
         "39",
         "0"
        ],
        [
         "40",
         "1"
        ],
        [
         "41",
         "1"
        ],
        [
         "42",
         "1"
        ],
        [
         "44",
         "1"
        ],
        [
         "45",
         "0"
        ],
        [
         "46",
         "0"
        ],
        [
         "47",
         "1"
        ],
        [
         "49",
         "2"
        ],
        [
         "50",
         "1"
        ],
        [
         "51",
         "0"
        ],
        [
         "52",
         "1"
        ],
        [
         "53",
         "0"
        ]
       ],
       "shape": {
        "columns": 1,
        "rows": 2216
       }
      },
      "text/plain": [
       "0       0\n",
       "1       2\n",
       "2       0\n",
       "3       1\n",
       "4       1\n",
       "       ..\n",
       "2235    1\n",
       "2236    3\n",
       "2237    0\n",
       "2238    1\n",
       "2239    2\n",
       "Name: Total_Children, Length: 2216, dtype: int64"
      ]
     },
     "execution_count": 18,
     "metadata": {},
     "output_type": "execute_result"
    }
   ],
   "source": [
    "df[\"Total_Children\"]"
   ]
  },
  {
   "cell_type": "code",
   "execution_count": 19,
   "id": "54b0a40d",
   "metadata": {},
   "outputs": [
    {
     "data": {
      "text/plain": [
       "Index(['ID', 'Year_Birth', 'Education', 'Marital_Status', 'Income', 'Kidhome',\n",
       "       'Teenhome', 'Dt_Customer', 'Recency', 'MntWines', 'MntFruits',\n",
       "       'MntMeatProducts', 'MntFishProducts', 'MntSweetProducts',\n",
       "       'MntGoldProds', 'NumDealsPurchases', 'NumWebPurchases',\n",
       "       'NumCatalogPurchases', 'NumStorePurchases', 'NumWebVisitsMonth',\n",
       "       'AcceptedCmp3', 'AcceptedCmp4', 'AcceptedCmp5', 'AcceptedCmp1',\n",
       "       'AcceptedCmp2', 'Complain', 'Z_CostContact', 'Z_Revenue', 'Response',\n",
       "       'Age', 'Total_Children'],\n",
       "      dtype='object')"
      ]
     },
     "execution_count": 19,
     "metadata": {},
     "output_type": "execute_result"
    }
   ],
   "source": [
    "df.columns"
   ]
  },
  {
   "cell_type": "code",
   "execution_count": 20,
   "id": "987865ff",
   "metadata": {},
   "outputs": [],
   "source": [
    "spending_columns = [\"MntWines\", \"MntFruits\", \"MntMeatProducts\", \"MntFishProducts\",\"MntSweetProducts\",\"MntGoldProds\"]"
   ]
  },
  {
   "cell_type": "code",
   "execution_count": 21,
   "id": "38483381",
   "metadata": {},
   "outputs": [],
   "source": [
    "df[\"Total_Spending\"] = df[spending_columns].sum(axis=1)"
   ]
  },
  {
   "cell_type": "code",
   "execution_count": 22,
   "id": "435eb850",
   "metadata": {},
   "outputs": [
    {
     "data": {
      "application/vnd.microsoft.datawrangler.viewer.v0+json": {
       "columns": [
        {
         "name": "index",
         "rawType": "int64",
         "type": "integer"
        },
        {
         "name": "Total_Spending",
         "rawType": "int64",
         "type": "integer"
        }
       ],
       "ref": "afbf0072-52d6-466c-a48c-61f93be0c85d",
       "rows": [
        [
         "0",
         "1617"
        ],
        [
         "1",
         "27"
        ],
        [
         "2",
         "776"
        ],
        [
         "3",
         "53"
        ],
        [
         "4",
         "422"
        ],
        [
         "5",
         "716"
        ],
        [
         "6",
         "590"
        ],
        [
         "7",
         "169"
        ],
        [
         "8",
         "46"
        ],
        [
         "9",
         "49"
        ],
        [
         "11",
         "61"
        ],
        [
         "12",
         "1102"
        ],
        [
         "13",
         "310"
        ],
        [
         "14",
         "46"
        ],
        [
         "15",
         "1315"
        ],
        [
         "16",
         "96"
        ],
        [
         "17",
         "317"
        ],
        [
         "18",
         "1782"
        ],
        [
         "19",
         "133"
        ],
        [
         "20",
         "316"
        ],
        [
         "21",
         "1730"
        ],
        [
         "22",
         "972"
        ],
        [
         "23",
         "544"
        ],
        [
         "24",
         "444"
        ],
        [
         "25",
         "75"
        ],
        [
         "26",
         "257"
        ],
        [
         "28",
         "131"
        ],
        [
         "29",
         "1672"
        ],
        [
         "30",
         "30"
        ],
        [
         "31",
         "318"
        ],
        [
         "32",
         "120"
        ],
        [
         "33",
         "302"
        ],
        [
         "34",
         "1196"
        ],
        [
         "35",
         "65"
        ],
        [
         "36",
         "913"
        ],
        [
         "37",
         "81"
        ],
        [
         "38",
         "67"
        ],
        [
         "39",
         "902"
        ],
        [
         "40",
         "1395"
        ],
        [
         "41",
         "53"
        ],
        [
         "42",
         "22"
        ],
        [
         "44",
         "31"
        ],
        [
         "45",
         "984"
        ],
        [
         "46",
         "122"
        ],
        [
         "47",
         "55"
        ],
        [
         "49",
         "1319"
        ],
        [
         "50",
         "507"
        ],
        [
         "51",
         "1693"
        ],
        [
         "52",
         "72"
        ],
        [
         "53",
         "1617"
        ]
       ],
       "shape": {
        "columns": 1,
        "rows": 2216
       }
      },
      "text/plain": [
       "0       1617\n",
       "1         27\n",
       "2        776\n",
       "3         53\n",
       "4        422\n",
       "        ... \n",
       "2235    1341\n",
       "2236     444\n",
       "2237    1241\n",
       "2238     843\n",
       "2239     172\n",
       "Name: Total_Spending, Length: 2216, dtype: int64"
      ]
     },
     "execution_count": 22,
     "metadata": {},
     "output_type": "execute_result"
    }
   ],
   "source": [
    "df[\"Total_Spending\"]"
   ]
  },
  {
   "cell_type": "code",
   "execution_count": 23,
   "id": "0774ab85",
   "metadata": {},
   "outputs": [],
   "source": [
    "df[\"Customer_Since\"] = (pd.Timestamp(\"today\") - df[\"Dt_Customer\"]).dt.days"
   ]
  },
  {
   "cell_type": "code",
   "execution_count": 24,
   "id": "4a1dfd3d",
   "metadata": {},
   "outputs": [
    {
     "data": {
      "application/vnd.microsoft.datawrangler.viewer.v0+json": {
       "columns": [
        {
         "name": "index",
         "rawType": "int64",
         "type": "integer"
        },
        {
         "name": "Customer_Since",
         "rawType": "int64",
         "type": "integer"
        }
       ],
       "ref": "3c3e4077-b772-470b-9a66-2507ca09c7c7",
       "rows": [
        [
         "0",
         "4707"
        ],
        [
         "1",
         "4157"
        ],
        [
         "2",
         "4356"
        ],
        [
         "3",
         "4183"
        ],
        [
         "4",
         "4205"
        ],
        [
         "5",
         "4337"
        ],
        [
         "6",
         "4637"
        ],
        [
         "7",
         "4461"
        ],
        [
         "8",
         "4432"
        ],
        [
         "9",
         "4152"
        ],
        [
         "11",
         "4637"
        ],
        [
         "12",
         "4270"
        ],
        [
         "13",
         "4270"
        ],
        [
         "14",
         "4671"
        ],
        [
         "15",
         "4626"
        ],
        [
         "16",
         "4596"
        ],
        [
         "17",
         "4711"
        ],
        [
         "18",
         "4502"
        ],
        [
         "19",
         "4647"
        ],
        [
         "20",
         "4734"
        ],
        [
         "21",
         "4583"
        ],
        [
         "22",
         "4597"
        ],
        [
         "23",
         "4213"
        ],
        [
         "24",
         "4512"
        ],
        [
         "25",
         "4587"
        ],
        [
         "26",
         "4442"
        ],
        [
         "28",
         "4438"
        ],
        [
         "29",
         "4263"
        ],
        [
         "30",
         "4082"
        ],
        [
         "31",
         "4458"
        ],
        [
         "32",
         "4671"
        ],
        [
         "33",
         "4652"
        ],
        [
         "34",
         "4538"
        ],
        [
         "35",
         "4348"
        ],
        [
         "36",
         "4224"
        ],
        [
         "37",
         "4344"
        ],
        [
         "38",
         "4182"
        ],
        [
         "39",
         "4557"
        ],
        [
         "40",
         "4470"
        ],
        [
         "41",
         "4518"
        ],
        [
         "42",
         "4596"
        ],
        [
         "44",
         "4314"
        ],
        [
         "45",
         "4045"
        ],
        [
         "46",
         "4641"
        ],
        [
         "47",
         "4445"
        ],
        [
         "49",
         "4642"
        ],
        [
         "50",
         "4092"
        ],
        [
         "51",
         "4731"
        ],
        [
         "52",
         "4587"
        ],
        [
         "53",
         "4066"
        ]
       ],
       "shape": {
        "columns": 1,
        "rows": 2216
       }
      },
      "text/plain": [
       "0       4707\n",
       "1       4157\n",
       "2       4356\n",
       "3       4183\n",
       "4       4205\n",
       "        ... \n",
       "2235    4425\n",
       "2236    4063\n",
       "2237    4199\n",
       "2238    4200\n",
       "2239    4666\n",
       "Name: Customer_Since, Length: 2216, dtype: int64"
      ]
     },
     "execution_count": 24,
     "metadata": {},
     "output_type": "execute_result"
    }
   ],
   "source": [
    "df[\"Customer_Since\"]"
   ]
  },
  {
   "cell_type": "code",
   "execution_count": 25,
   "id": "84302ed1",
   "metadata": {},
   "outputs": [
    {
     "data": {
      "image/png": "[encoded data removed]",
      "text/plain": [
       "<Figure size 640x480 with 1 Axes>"
      ]
     },
     "metadata": {},
     "output_type": "display_data"
    }
   ],
   "source": [
    "sns.histplot(df[\"Age\"], bins=30, kde=True)\n",
    "plt.title(\"Age Distribution\")\n",
    "plt.show()"
   ]
  },
  {
   "cell_type": "code",
   "execution_count": 32,
   "id": "2760b2ab",
   "metadata": {},
   "outputs": [
    {
     "data": {
      "image/png": "[encoded data removed]",
      "text/plain": [
       "<Figure size 1500x500 with 2 Axes>"
      ]
     },
     "metadata": {},
     "output_type": "display_data"
    }
   ],
   "source": [
    "fig, axes = plt.subplots(1, 2, figsize=(15, 5))\n",
    "\n",
    "sns.histplot(df[\"Income\"], bins=30, kde=True, ax=axes[0])\n",
    "axes[0].set_title('Income Distribution')\n",
    "\n",
    "sns.histplot(df[\"Total_Spending\"], bins=30, kde=True, ax=axes[1])\n",
    "axes[1].set_title('Total spending Distribution')\n",
    "\n",
    "plt.tight_layout()\n",
    "plt.show()"
   ]
  },
  {
   "cell_type": "code",
   "execution_count": 34,
   "id": "8a977eab",
   "metadata": {},
   "outputs": [
    {
     "data": {
      "image/png": "[encoded data removed]",
      "text/plain": [
       "<Figure size 640x480 with 1 Axes>"
      ]
     },
     "metadata": {},
     "output_type": "display_data"
    }
   ],
   "source": [
    "sns.boxenplot(x=\"Education\", y=\"Income\", data=df)\n",
    "plt.xticks(rotation = 45)\n",
    "plt.title(\"Income  by Education Level\")\n",
    "plt.show()"
   ]
  },
  {
   "cell_type": "code",
   "execution_count": 35,
   "id": "4caa30fb",
   "metadata": {},
   "outputs": [
    {
     "data": {
      "image/png": "[encoded data removed]",
      "text/plain": [
       "<Figure size 640x480 with 1 Axes>"
      ]
     },
     "metadata": {},
     "output_type": "display_data"
    }
   ],
   "source": [
    "sns.boxenplot(x=\"Marital_Status\", y=\"Total_Spending\", data=df)\n",
    "plt.xticks(rotation = 45)\n",
    "plt.title(\"Spending  by Marital Status Level\")\n",
    "plt.show()"
   ]
  },
  {
   "cell_type": "code",
   "execution_count": 37,
   "id": "04a93ef1",
   "metadata": {},
   "outputs": [
    {
     "data": {
      "text/plain": [
       "Index(['ID', 'Year_Birth', 'Education', 'Marital_Status', 'Income', 'Kidhome',\n",
       "       'Teenhome', 'Dt_Customer', 'Recency', 'MntWines', 'MntFruits',\n",
       "       'MntMeatProducts', 'MntFishProducts', 'MntSweetProducts',\n",
       "       'MntGoldProds', 'NumDealsPurchases', 'NumWebPurchases',\n",
       "       'NumCatalogPurchases', 'NumStorePurchases', 'NumWebVisitsMonth',\n",
       "       'AcceptedCmp3', 'AcceptedCmp4', 'AcceptedCmp5', 'AcceptedCmp1',\n",
       "       'AcceptedCmp2', 'Complain', 'Z_CostContact', 'Z_Revenue', 'Response',\n",
       "       'Age', 'Total_Children', 'Total_Spending', 'Customer_Since'],\n",
       "      dtype='object')"
      ]
     },
     "execution_count": 37,
     "metadata": {},
     "output_type": "execute_result"
    }
   ],
   "source": [
    "df.columns"
   ]
  },
  {
   "cell_type": "code",
   "execution_count": 40,
   "id": "58d39e76",
   "metadata": {},
   "outputs": [
    {
     "data": {
      "application/vnd.microsoft.datawrangler.viewer.v0+json": {
       "columns": [
        {
         "name": "index",
         "rawType": "object",
         "type": "string"
        },
        {
         "name": "Income",
         "rawType": "float64",
         "type": "float"
        },
        {
         "name": "Age",
         "rawType": "float64",
         "type": "float"
        },
        {
         "name": "Recency",
         "rawType": "float64",
         "type": "float"
        },
        {
         "name": "Total_Spending",
         "rawType": "float64",
         "type": "float"
        },
        {
         "name": "NumWebPurchases",
         "rawType": "float64",
         "type": "float"
        },
        {
         "name": "NumStorePurchases",
         "rawType": "float64",
         "type": "float"
        }
       ],
       "ref": "88697ac3-98a5-4ea8-be50-f8b6d83bf520",
       "rows": [
        [
         "Income",
         "1.0",
         "0.16179142819632947",
         "-0.003969755538429376",
         "0.6675760903888279",
         "0.38787781129179055",
         "0.5293621402734204"
        ],
        [
         "Age",
         "0.16179142819632947",
         "1.0",
         "0.016294899725588768",
         "0.11348683837578555",
         "0.15305137476702113",
         "0.127890721813749"
        ],
        [
         "Recency",
         "-0.003969755538429376",
         "0.016294899725588768",
         "1.0",
         "0.020065654583509528",
         "-0.005640853762668513",
         "-0.0004338265887671461"
        ],
        [
         "Total_Spending",
         "0.6675760903888279",
         "0.11348683837578555",
         "0.020065654583509528",
         "1.0",
         "0.5289733357135556",
         "0.6751811032753655"
        ],
        [
         "NumWebPurchases",
         "0.38787781129179055",
         "0.15305137476702113",
         "-0.005640853762668513",
         "0.5289733357135556",
         "1.0",
         "0.5162401826934667"
        ],
        [
         "NumStorePurchases",
         "0.5293621402734204",
         "0.127890721813749",
         "-0.0004338265887671461",
         "0.6751811032753655",
         "0.5162401826934667",
         "1.0"
        ]
       ],
       "shape": {
        "columns": 6,
        "rows": 6
       }
      },
      "text/html": [
       "<div>\n",
       "<style scoped>\n",
       "    .dataframe tbody tr th:only-of-type {\n",
       "        vertical-align: middle;\n",
       "    }\n",
       "\n",
       "    .dataframe tbody tr th {\n",
       "        vertical-align: top;\n",
       "    }\n",
       "\n",
       "    .dataframe thead th {\n",
       "        text-align: right;\n",
       "    }\n",
       "</style>\n",
       "<table border=\"1\" class=\"dataframe\">\n",
       "  <thead>\n",
       "    <tr style=\"text-align: right;\">\n",
       "      <th></th>\n",
       "      <th>Income</th>\n",
       "      <th>Age</th>\n",
       "      <th>Recency</th>\n",
       "      <th>Total_Spending</th>\n",
       "      <th>NumWebPurchases</th>\n",
       "      <th>NumStorePurchases</th>\n",
       "    </tr>\n",
       "  </thead>\n",
       "  <tbody>\n",
       "    <tr>\n",
       "      <th>Income</th>\n",
       "      <td>1.000000</td>\n",
       "      <td>0.161791</td>\n",
       "      <td>-0.003970</td>\n",
       "      <td>0.667576</td>\n",
       "      <td>0.387878</td>\n",
       "      <td>0.529362</td>\n",
       "    </tr>\n",
       "    <tr>\n",
       "      <th>Age</th>\n",
       "      <td>0.161791</td>\n",
       "      <td>1.000000</td>\n",
       "      <td>0.016295</td>\n",
       "      <td>0.113487</td>\n",
       "      <td>0.153051</td>\n",
       "      <td>0.127891</td>\n",
       "    </tr>\n",
       "    <tr>\n",
       "      <th>Recency</th>\n",
       "      <td>-0.003970</td>\n",
       "      <td>0.016295</td>\n",
       "      <td>1.000000</td>\n",
       "      <td>0.020066</td>\n",
       "      <td>-0.005641</td>\n",
       "      <td>-0.000434</td>\n",
       "    </tr>\n",
       "    <tr>\n",
       "      <th>Total_Spending</th>\n",
       "      <td>0.667576</td>\n",
       "      <td>0.113487</td>\n",
       "      <td>0.020066</td>\n",
       "      <td>1.000000</td>\n",
       "      <td>0.528973</td>\n",
       "      <td>0.675181</td>\n",
       "    </tr>\n",
       "    <tr>\n",
       "      <th>NumWebPurchases</th>\n",
       "      <td>0.387878</td>\n",
       "      <td>0.153051</td>\n",
       "      <td>-0.005641</td>\n",
       "      <td>0.528973</td>\n",
       "      <td>1.000000</td>\n",
       "      <td>0.516240</td>\n",
       "    </tr>\n",
       "    <tr>\n",
       "      <th>NumStorePurchases</th>\n",
       "      <td>0.529362</td>\n",
       "      <td>0.127891</td>\n",
       "      <td>-0.000434</td>\n",
       "      <td>0.675181</td>\n",
       "      <td>0.516240</td>\n",
       "      <td>1.000000</td>\n",
       "    </tr>\n",
       "  </tbody>\n",
       "</table>\n",
       "</div>"
      ],
      "text/plain": [
       "                     Income       Age   Recency  Total_Spending  \\\n",
       "Income             1.000000  0.161791 -0.003970        0.667576   \n",
       "Age                0.161791  1.000000  0.016295        0.113487   \n",
       "Recency           -0.003970  0.016295  1.000000        0.020066   \n",
       "Total_Spending     0.667576  0.113487  0.020066        1.000000   \n",
       "NumWebPurchases    0.387878  0.153051 -0.005641        0.528973   \n",
       "NumStorePurchases  0.529362  0.127891 -0.000434        0.675181   \n",
       "\n",
       "                   NumWebPurchases  NumStorePurchases  \n",
       "Income                    0.387878           0.529362  \n",
       "Age                       0.153051           0.127891  \n",
       "Recency                  -0.005641          -0.000434  \n",
       "Total_Spending            0.528973           0.675181  \n",
       "NumWebPurchases           1.000000           0.516240  \n",
       "NumStorePurchases         0.516240           1.000000  "
      ]
     },
     "execution_count": 40,
     "metadata": {},
     "output_type": "execute_result"
    }
   ],
   "source": [
    "corr = df[[\"Income\", \"Age\", \"Recency\", \"Total_Spending\", \"NumWebPurchases\", \"NumStorePurchases\"]].corr()\n",
    "corr"
   ]
  },
  {
   "cell_type": "code",
   "execution_count": 41,
   "id": "982dd0f6",
   "metadata": {},
   "outputs": [
    {
     "data": {
      "image/png": "[encoded data removed]",
      "text/plain": [
       "<Figure size 640x480 with 2 Axes>"
      ]
     },
     "metadata": {},
     "output_type": "display_data"
    }
   ],
   "source": [
    "sns.heatmap(corr, annot= True, cmap=\"coolwarm\")\n",
    "plt.title(\"COrrelation Matrix\")\n",
    "plt.show()"
   ]
  },
  {
   "cell_type": "code",
   "execution_count": 43,
   "id": "282626fa",
   "metadata": {},
   "outputs": [],
   "source": [
    "pivot_income = df.pivot_table(values=\"Income\", index=\"Education\", columns=\"Marital_Status\", aggfunc=\"mean\")"
   ]
  },
  {
   "cell_type": "code",
   "execution_count": 44,
   "id": "504a74be",
   "metadata": {},
   "outputs": [
    {
     "data": {
      "application/vnd.microsoft.datawrangler.viewer.v0+json": {
       "columns": [
        {
         "name": "Education",
         "rawType": "object",
         "type": "string"
        },
        {
         "name": "Absurd",
         "rawType": "float64",
         "type": "float"
        },
        {
         "name": "Alone",
         "rawType": "float64",
         "type": "float"
        },
        {
         "name": "Divorced",
         "rawType": "float64",
         "type": "float"
        },
        {
         "name": "Married",
         "rawType": "float64",
         "type": "float"
        },
        {
         "name": "Single",
         "rawType": "float64",
         "type": "float"
        },
        {
         "name": "Together",
         "rawType": "float64",
         "type": "float"
        },
        {
         "name": "Widow",
         "rawType": "float64",
         "type": "float"
        },
        {
         "name": "YOLO",
         "rawType": "float64",
         "type": "float"
        }
       ],
       "ref": "9bcb7aa9-b713-4e74-8d19-ee94af034052",
       "rows": [
        [
         "2n Cycle",
         null,
         null,
         "49395.13043478261",
         "46201.1",
         "53673.944444444445",
         "44736.41071428572",
         "51392.2",
         null
        ],
        [
         "Basic",
         null,
         null,
         "9548.0",
         "21960.5",
         "18238.666666666668",
         "21240.071428571428",
         "22123.0",
         null
        ],
        [
         "Graduation",
         "79244.0",
         "34176.0",
         "54526.04201680672",
         "50800.25874125874",
         "51322.18292682927",
         "55758.480701754386",
         "54976.65714285714",
         null
        ],
        [
         "Master",
         "65487.0",
         "61331.0",
         "50331.94594594595",
         "53286.02898550725",
         "53530.56",
         "52109.009803921566",
         "58401.545454545456",
         null
        ],
        [
         "PhD",
         null,
         "35860.0",
         "53096.61538461538",
         "58138.03157894737",
         "53314.614583333336",
         "56041.4224137931",
         "60288.083333333336",
         "48432.0"
        ]
       ],
       "shape": {
        "columns": 8,
        "rows": 5
       }
      },
      "text/html": [
       "<div>\n",
       "<style scoped>\n",
       "    .dataframe tbody tr th:only-of-type {\n",
       "        vertical-align: middle;\n",
       "    }\n",
       "\n",
       "    .dataframe tbody tr th {\n",
       "        vertical-align: top;\n",
       "    }\n",
       "\n",
       "    .dataframe thead th {\n",
       "        text-align: right;\n",
       "    }\n",
       "</style>\n",
       "<table border=\"1\" class=\"dataframe\">\n",
       "  <thead>\n",
       "    <tr style=\"text-align: right;\">\n",
       "      <th>Marital_Status</th>\n",
       "      <th>Absurd</th>\n",
       "      <th>Alone</th>\n",
       "      <th>Divorced</th>\n",
       "      <th>Married</th>\n",
       "      <th>Single</th>\n",
       "      <th>Together</th>\n",
       "      <th>Widow</th>\n",
       "      <th>YOLO</th>\n",
       "    </tr>\n",
       "    <tr>\n",
       "      <th>Education</th>\n",
       "      <th></th>\n",
       "      <th></th>\n",
       "      <th></th>\n",
       "      <th></th>\n",
       "      <th></th>\n",
       "      <th></th>\n",
       "      <th></th>\n",
       "      <th></th>\n",
       "    </tr>\n",
       "  </thead>\n",
       "  <tbody>\n",
       "    <tr>\n",
       "      <th>2n Cycle</th>\n",
       "      <td>NaN</td>\n",
       "      <td>NaN</td>\n",
       "      <td>49395.130435</td>\n",
       "      <td>46201.100000</td>\n",
       "      <td>53673.944444</td>\n",
       "      <td>44736.410714</td>\n",
       "      <td>51392.200000</td>\n",
       "      <td>NaN</td>\n",
       "    </tr>\n",
       "    <tr>\n",
       "      <th>Basic</th>\n",
       "      <td>NaN</td>\n",
       "      <td>NaN</td>\n",
       "      <td>9548.000000</td>\n",
       "      <td>21960.500000</td>\n",
       "      <td>18238.666667</td>\n",
       "      <td>21240.071429</td>\n",
       "      <td>22123.000000</td>\n",
       "      <td>NaN</td>\n",
       "    </tr>\n",
       "    <tr>\n",
       "      <th>Graduation</th>\n",
       "      <td>79244.0</td>\n",
       "      <td>34176.0</td>\n",
       "      <td>54526.042017</td>\n",
       "      <td>50800.258741</td>\n",
       "      <td>51322.182927</td>\n",
       "      <td>55758.480702</td>\n",
       "      <td>54976.657143</td>\n",
       "      <td>NaN</td>\n",
       "    </tr>\n",
       "    <tr>\n",
       "      <th>Master</th>\n",
       "      <td>65487.0</td>\n",
       "      <td>61331.0</td>\n",
       "      <td>50331.945946</td>\n",
       "      <td>53286.028986</td>\n",
       "      <td>53530.560000</td>\n",
       "      <td>52109.009804</td>\n",
       "      <td>58401.545455</td>\n",
       "      <td>NaN</td>\n",
       "    </tr>\n",
       "    <tr>\n",
       "      <th>PhD</th>\n",
       "      <td>NaN</td>\n",
       "      <td>35860.0</td>\n",
       "      <td>53096.615385</td>\n",
       "      <td>58138.031579</td>\n",
       "      <td>53314.614583</td>\n",
       "      <td>56041.422414</td>\n",
       "      <td>60288.083333</td>\n",
       "      <td>48432.0</td>\n",
       "    </tr>\n",
       "  </tbody>\n",
       "</table>\n",
       "</div>"
      ],
      "text/plain": [
       "Marital_Status   Absurd    Alone      Divorced       Married        Single  \\\n",
       "Education                                                                    \n",
       "2n Cycle            NaN      NaN  49395.130435  46201.100000  53673.944444   \n",
       "Basic               NaN      NaN   9548.000000  21960.500000  18238.666667   \n",
       "Graduation      79244.0  34176.0  54526.042017  50800.258741  51322.182927   \n",
       "Master          65487.0  61331.0  50331.945946  53286.028986  53530.560000   \n",
       "PhD                 NaN  35860.0  53096.615385  58138.031579  53314.614583   \n",
       "\n",
       "Marital_Status      Together         Widow     YOLO  \n",
       "Education                                            \n",
       "2n Cycle        44736.410714  51392.200000      NaN  \n",
       "Basic           21240.071429  22123.000000      NaN  \n",
       "Graduation      55758.480702  54976.657143      NaN  \n",
       "Master          52109.009804  58401.545455      NaN  \n",
       "PhD             56041.422414  60288.083333  48432.0  "
      ]
     },
     "execution_count": 44,
     "metadata": {},
     "output_type": "execute_result"
    }
   ],
   "source": [
    "pivot_income"
   ]
  },
  {
   "cell_type": "code",
   "execution_count": 46,
   "id": "61939ba6",
   "metadata": {},
   "outputs": [
    {
     "data": {
      "image/png": "[encoded data removed]",
      "text/plain": [
       "<Figure size 640x480 with 2 Axes>"
      ]
     },
     "metadata": {},
     "output_type": "display_data"
    }
   ],
   "source": [
    "sns.heatmap(pivot_income, annot=True, fmt=\".0f\", cmap=\"YlGnBu\")\n",
    "plt.title(\"Average Income by Education and Marital Status\")\n",
    "plt.show()"
   ]
  },
  {
   "cell_type": "code",
   "execution_count": 49,
   "id": "bf6c7b31",
   "metadata": {},
   "outputs": [],
   "source": [
    "group1 = df.groupby(\"Education\")[\"Total_Spending\"].mean().sort_values(ascending = False)"
   ]
  },
  {
   "cell_type": "code",
   "execution_count": 50,
   "id": "c602c4c4",
   "metadata": {},
   "outputs": [
    {
     "data": {
      "application/vnd.microsoft.datawrangler.viewer.v0+json": {
       "columns": [
        {
         "name": "Education",
         "rawType": "object",
         "type": "string"
        },
        {
         "name": "Total_Spending",
         "rawType": "float64",
         "type": "float"
        }
       ],
       "ref": "b205d3b1-c3e9-45d2-93bd-d1e3cc34be70",
       "rows": [
        [
         "PhD",
         "676.7338877338877"
        ],
        [
         "Graduation",
         "621.6863799283154"
        ],
        [
         "Master",
         "609.7671232876712"
        ],
        [
         "2n Cycle",
         "494.93"
        ],
        [
         "Basic",
         "81.79629629629629"
        ]
       ],
       "shape": {
        "columns": 1,
        "rows": 5
       }
      },
      "text/plain": [
       "Education\n",
       "PhD           676.733888\n",
       "Graduation    621.686380\n",
       "Master        609.767123\n",
       "2n Cycle      494.930000\n",
       "Basic          81.796296\n",
       "Name: Total_Spending, dtype: float64"
      ]
     },
     "execution_count": 50,
     "metadata": {},
     "output_type": "execute_result"
    }
   ],
   "source": [
    "group1"
   ]
  },
  {
   "cell_type": "code",
   "execution_count": 51,
   "id": "8011d3d1",
   "metadata": {},
   "outputs": [
    {
     "data": {
      "image/png": "[encoded data removed]",
      "text/plain": [
       "<Figure size 640x480 with 1 Axes>"
      ]
     },
     "metadata": {},
     "output_type": "display_data"
    }
   ],
   "source": [
    "group1.plot(kind=\"bar\", color = \"skyblue\")\n",
    "plt.title(\"Average Spending by Education\")\n",
    "plt.ylabel(\"Average Total Spending\")\n",
    "plt.show()"
   ]
  },
  {
   "cell_type": "code",
   "execution_count": 52,
   "id": "305186df",
   "metadata": {},
   "outputs": [],
   "source": [
    "df[\"AcceptedAny\"] = df[[\"AcceptedCmp1\", \"AcceptedCmp2\", \"AcceptedCmp3\", \"AcceptedCmp4\", \"AcceptedCmp5\", \"Response\"]].sum(axis = 1)"
   ]
  },
  {
   "cell_type": "code",
   "execution_count": 55,
   "id": "30f09b4b",
   "metadata": {},
   "outputs": [
    {
     "data": {
      "text/plain": [
       "array([1, 0, 3, 2, 4, 5], dtype=int64)"
      ]
     },
     "execution_count": 55,
     "metadata": {},
     "output_type": "execute_result"
    }
   ],
   "source": [
    "df[\"AcceptedAny\"].unique()"
   ]
  },
  {
   "cell_type": "code",
   "execution_count": 56,
   "id": "56ca99c7",
   "metadata": {},
   "outputs": [],
   "source": [
    "df[\"AcceptedAny\"] = df[\"AcceptedAny\"].apply(lambda x: 1 if x > 0 else 0)"
   ]
  },
  {
   "cell_type": "code",
   "execution_count": 57,
   "id": "cd9bdb99",
   "metadata": {},
   "outputs": [
    {
     "data": {
      "text/plain": [
       "array([1, 0], dtype=int64)"
      ]
     },
     "execution_count": 57,
     "metadata": {},
     "output_type": "execute_result"
    }
   ],
   "source": [
    "df[\"AcceptedAny\"].unique()"
   ]
  },
  {
   "cell_type": "code",
   "execution_count": 58,
   "id": "3c778b2a",
   "metadata": {},
   "outputs": [],
   "source": [
    "group2 = df.groupby(\"Marital_Status\")[\"AcceptedAny\"].mean().sort_values(ascending=False)"
   ]
  },
  {
   "cell_type": "code",
   "execution_count": 59,
   "id": "49c46c81",
   "metadata": {},
   "outputs": [
    {
     "data": {
      "application/vnd.microsoft.datawrangler.viewer.v0+json": {
       "columns": [
        {
         "name": "Marital_Status",
         "rawType": "object",
         "type": "string"
        },
        {
         "name": "AcceptedAny",
         "rawType": "float64",
         "type": "float"
        }
       ],
       "ref": "e2e7a78e-0763-4dc1-81e5-1bb63177da72",
       "rows": [
        [
         "Absurd",
         "0.5"
        ],
        [
         "YOLO",
         "0.5"
        ],
        [
         "Widow",
         "0.34210526315789475"
        ],
        [
         "Alone",
         "0.3333333333333333"
        ],
        [
         "Single",
         "0.31210191082802546"
        ],
        [
         "Divorced",
         "0.2974137931034483"
        ],
        [
         "Married",
         "0.25204200700116686"
        ],
        [
         "Together",
         "0.2513089005235602"
        ]
       ],
       "shape": {
        "columns": 1,
        "rows": 8
       }
      },
      "text/plain": [
       "Marital_Status\n",
       "Absurd      0.500000\n",
       "YOLO        0.500000\n",
       "Widow       0.342105\n",
       "Alone       0.333333\n",
       "Single      0.312102\n",
       "Divorced    0.297414\n",
       "Married     0.252042\n",
       "Together    0.251309\n",
       "Name: AcceptedAny, dtype: float64"
      ]
     },
     "execution_count": 59,
     "metadata": {},
     "output_type": "execute_result"
    }
   ],
   "source": [
    "group2"
   ]
  },
  {
   "cell_type": "code",
   "execution_count": 61,
   "id": "99d0c0b1",
   "metadata": {},
   "outputs": [
    {
     "data": {
      "image/png": "[encoded data removed]",
      "text/plain": [
       "<Figure size 640x480 with 1 Axes>"
      ]
     },
     "metadata": {},
     "output_type": "display_data"
    }
   ],
   "source": [
    "group2.plot(kind=\"bar\", color = \"orange\")\n",
    "plt.title(\"Campaign Acceptance Rate by Marital Status\")\n",
    "plt.ylabel(\"Acceptence Rate\")\n",
    "plt.xticks(rotation = 45)\n",
    "plt.show()"
   ]
  },
  {
   "cell_type": "code",
   "execution_count": 62,
   "id": "952593ca",
   "metadata": {},
   "outputs": [],
   "source": [
    "bins = [18, 30, 40, 50, 60, 70, 90]"
   ]
  },
  {
   "cell_type": "code",
   "execution_count": 63,
   "id": "2bb1fe6f",
   "metadata": {},
   "outputs": [],
   "source": [
    "labels = [\"18-29\", \"30-39\",\"40-49\", \"50-59\", \"60-69\", \"70+\"]"
   ]
  },
  {
   "cell_type": "code",
   "execution_count": 65,
   "id": "04f94be6",
   "metadata": {},
   "outputs": [],
   "source": [
    "df[\"AgeGroup\"] = pd.cut(df[\"Age\"], bins = bins, labels=labels)"
   ]
  },
  {
   "cell_type": "code",
   "execution_count": 66,
   "id": "c64d7bdf",
   "metadata": {},
   "outputs": [
    {
     "data": {
      "application/vnd.microsoft.datawrangler.viewer.v0+json": {
       "columns": [
        {
         "name": "index",
         "rawType": "int64",
         "type": "integer"
        },
        {
         "name": "AgeGroup",
         "rawType": "category",
         "type": "unknown"
        }
       ],
       "ref": "9ba632e9-71a1-4d3b-9d1b-ccff950aa6ff",
       "rows": [
        [
         "0",
         "60-69"
        ],
        [
         "1",
         "70+"
        ],
        [
         "2",
         "50-59"
        ],
        [
         "3",
         "40-49"
        ],
        [
         "4",
         "40-49"
        ],
        [
         "5",
         "50-59"
        ],
        [
         "6",
         "50-59"
        ],
        [
         "7",
         "30-39"
        ],
        [
         "8",
         "50-59"
        ],
        [
         "9",
         "70+"
        ],
        [
         "11",
         "40-49"
        ],
        [
         "12",
         "60-69"
        ],
        [
         "13",
         "70+"
        ],
        [
         "14",
         "30-39"
        ],
        [
         "15",
         "70+"
        ],
        [
         "16",
         "40-49"
        ],
        [
         "17",
         "70+"
        ],
        [
         "18",
         "70+"
        ],
        [
         "19",
         "30-39"
        ],
        [
         "20",
         "40-49"
        ],
        [
         "21",
         "40-49"
        ],
        [
         "22",
         "70+"
        ],
        [
         "23",
         "70+"
        ],
        [
         "24",
         "70+"
        ],
        [
         "25",
         "50-59"
        ],
        [
         "26",
         "40-49"
        ],
        [
         "28",
         "30-39"
        ],
        [
         "29",
         "50-59"
        ],
        [
         "30",
         "30-39"
        ],
        [
         "31",
         "60-69"
        ],
        [
         "32",
         "50-59"
        ],
        [
         "33",
         "70+"
        ],
        [
         "34",
         "70+"
        ],
        [
         "35",
         "70+"
        ],
        [
         "36",
         "50-59"
        ],
        [
         "37",
         "40-49"
        ],
        [
         "38",
         "50-59"
        ],
        [
         "39",
         "70+"
        ],
        [
         "40",
         "40-49"
        ],
        [
         "41",
         "30-39"
        ],
        [
         "42",
         "60-69"
        ],
        [
         "44",
         "40-49"
        ],
        [
         "45",
         "40-49"
        ],
        [
         "46",
         "18-29"
        ],
        [
         "47",
         "50-59"
        ],
        [
         "49",
         "70+"
        ],
        [
         "50",
         "60-69"
        ],
        [
         "51",
         "60-69"
        ],
        [
         "52",
         "40-49"
        ],
        [
         "53",
         "40-49"
        ]
       ],
       "shape": {
        "columns": 1,
        "rows": 2216
       }
      },
      "text/plain": [
       "0       60-69\n",
       "1         70+\n",
       "2       50-59\n",
       "3       40-49\n",
       "4       40-49\n",
       "        ...  \n",
       "2235    50-59\n",
       "2236      70+\n",
       "2237    40-49\n",
       "2238    60-69\n",
       "2239      70+\n",
       "Name: AgeGroup, Length: 2216, dtype: category\n",
       "Categories (6, object): ['18-29' < '30-39' < '40-49' < '50-59' < '60-69' < '70+']"
      ]
     },
     "execution_count": 66,
     "metadata": {},
     "output_type": "execute_result"
    }
   ],
   "source": [
    "df[\"AgeGroup\"]"
   ]
  },
  {
   "cell_type": "code",
   "execution_count": 67,
   "id": "35011b08",
   "metadata": {},
   "outputs": [
    {
     "name": "stderr",
     "output_type": "stream",
     "text": [
      "C:\\Users\\Rafal\\AppData\\Local\\Temp\\ipykernel_13808\\1140876350.py:1: FutureWarning: The default of observed=False is deprecated and will be changed to True in a future version of pandas. Pass observed=False to retain current behavior or observed=True to adopt the future default and silence this warning.\n",
      "  group3 = df.groupby(\"AgeGroup\")[\"Income\"].mean()\n"
     ]
    }
   ],
   "source": [
    "group3 = df.groupby(\"AgeGroup\")[\"Income\"].mean()"
   ]
  },
  {
   "cell_type": "code",
   "execution_count": 68,
   "id": "b511b5fd",
   "metadata": {},
   "outputs": [
    {
     "data": {
      "application/vnd.microsoft.datawrangler.viewer.v0+json": {
       "columns": [
        {
         "name": "AgeGroup",
         "rawType": "category",
         "type": "unknown"
        },
        {
         "name": "Income",
         "rawType": "float64",
         "type": "float"
        }
       ],
       "ref": "bcef006a-1f0a-4aa2-ba26-15e0583721d1",
       "rows": [
        [
         "18-29",
         "46658.0"
        ],
        [
         "30-39",
         "46283.02830188679"
        ],
        [
         "40-49",
         "49224.87703435805"
        ],
        [
         "50-59",
         "50812.91330343797"
        ],
        [
         "60-69",
         "56200.82788671024"
        ],
        [
         "70+",
         "58944.31629392971"
        ]
       ],
       "shape": {
        "columns": 1,
        "rows": 6
       }
      },
      "text/plain": [
       "AgeGroup\n",
       "18-29    46658.000000\n",
       "30-39    46283.028302\n",
       "40-49    49224.877034\n",
       "50-59    50812.913303\n",
       "60-69    56200.827887\n",
       "70+      58944.316294\n",
       "Name: Income, dtype: float64"
      ]
     },
     "execution_count": 68,
     "metadata": {},
     "output_type": "execute_result"
    }
   ],
   "source": [
    "group3"
   ]
  },
  {
   "cell_type": "code",
   "execution_count": 69,
   "id": "15d6903e",
   "metadata": {},
   "outputs": [
    {
     "data": {
      "image/png": "[encoded data removed]",
      "text/plain": [
       "<Figure size 640x480 with 1 Axes>"
      ]
     },
     "metadata": {},
     "output_type": "display_data"
    }
   ],
   "source": [
    "group3.plot(kind=\"barh\", color = \"green\")\n",
    "plt.title(\"Average Income by Age Group\")\n",
    "plt.xlabel(\"Average Income\")\n",
    "plt.show()"
   ]
  },
  {
   "cell_type": "code",
   "execution_count": 70,
   "id": "4d173974",
   "metadata": {},
   "outputs": [
    {
     "data": {
      "application/vnd.microsoft.datawrangler.viewer.v0+json": {
       "columns": [
        {
         "name": "index",
         "rawType": "int64",
         "type": "integer"
        },
        {
         "name": "ID",
         "rawType": "int64",
         "type": "integer"
        },
        {
         "name": "Year_Birth",
         "rawType": "int64",
         "type": "integer"
        },
        {
         "name": "Education",
         "rawType": "object",
         "type": "string"
        },
        {
         "name": "Marital_Status",
         "rawType": "object",
         "type": "string"
        },
        {
         "name": "Income",
         "rawType": "float64",
         "type": "float"
        },
        {
         "name": "Kidhome",
         "rawType": "int64",
         "type": "integer"
        },
        {
         "name": "Teenhome",
         "rawType": "int64",
         "type": "integer"
        },
        {
         "name": "Dt_Customer",
         "rawType": "datetime64[ns]",
         "type": "datetime"
        },
        {
         "name": "Recency",
         "rawType": "int64",
         "type": "integer"
        },
        {
         "name": "MntWines",
         "rawType": "int64",
         "type": "integer"
        },
        {
         "name": "MntFruits",
         "rawType": "int64",
         "type": "integer"
        },
        {
         "name": "MntMeatProducts",
         "rawType": "int64",
         "type": "integer"
        },
        {
         "name": "MntFishProducts",
         "rawType": "int64",
         "type": "integer"
        },
        {
         "name": "MntSweetProducts",
         "rawType": "int64",
         "type": "integer"
        },
        {
         "name": "MntGoldProds",
         "rawType": "int64",
         "type": "integer"
        },
        {
         "name": "NumDealsPurchases",
         "rawType": "int64",
         "type": "integer"
        },
        {
         "name": "NumWebPurchases",
         "rawType": "int64",
         "type": "integer"
        },
        {
         "name": "NumCatalogPurchases",
         "rawType": "int64",
         "type": "integer"
        },
        {
         "name": "NumStorePurchases",
         "rawType": "int64",
         "type": "integer"
        },
        {
         "name": "NumWebVisitsMonth",
         "rawType": "int64",
         "type": "integer"
        },
        {
         "name": "AcceptedCmp3",
         "rawType": "int64",
         "type": "integer"
        },
        {
         "name": "AcceptedCmp4",
         "rawType": "int64",
         "type": "integer"
        },
        {
         "name": "AcceptedCmp5",
         "rawType": "int64",
         "type": "integer"
        },
        {
         "name": "AcceptedCmp1",
         "rawType": "int64",
         "type": "integer"
        },
        {
         "name": "AcceptedCmp2",
         "rawType": "int64",
         "type": "integer"
        },
        {
         "name": "Complain",
         "rawType": "int64",
         "type": "integer"
        },
        {
         "name": "Z_CostContact",
         "rawType": "int64",
         "type": "integer"
        },
        {
         "name": "Z_Revenue",
         "rawType": "int64",
         "type": "integer"
        },
        {
         "name": "Response",
         "rawType": "int64",
         "type": "integer"
        },
        {
         "name": "Age",
         "rawType": "int64",
         "type": "integer"
        },
        {
         "name": "Total_Children",
         "rawType": "int64",
         "type": "integer"
        },
        {
         "name": "Total_Spending",
         "rawType": "int64",
         "type": "integer"
        },
        {
         "name": "Customer_Since",
         "rawType": "int64",
         "type": "integer"
        },
        {
         "name": "AcceptedAny",
         "rawType": "int64",
         "type": "integer"
        },
        {
         "name": "AgeGroup",
         "rawType": "category",
         "type": "unknown"
        }
       ],
       "ref": "b2fdc284-4b60-44b5-8191-cc1607235e6a",
       "rows": [
        [
         "0",
         "5524",
         "1957",
         "Graduation",
         "Single",
         "58138.0",
         "0",
         "0",
         "2012-09-04 00:00:00",
         "58",
         "635",
         "88",
         "546",
         "172",
         "88",
         "88",
         "3",
         "8",
         "10",
         "4",
         "7",
         "0",
         "0",
         "0",
         "0",
         "0",
         "0",
         "3",
         "11",
         "1",
         "68",
         "0",
         "1617",
         "4707",
         "1",
         "60-69"
        ],
        [
         "1",
         "2174",
         "1954",
         "Graduation",
         "Single",
         "46344.0",
         "1",
         "1",
         "2014-03-08 00:00:00",
         "38",
         "11",
         "1",
         "6",
         "2",
         "1",
         "6",
         "2",
         "1",
         "1",
         "2",
         "5",
         "0",
         "0",
         "0",
         "0",
         "0",
         "0",
         "3",
         "11",
         "0",
         "71",
         "2",
         "27",
         "4157",
         "0",
         "70+"
        ],
        [
         "2",
         "4141",
         "1965",
         "Graduation",
         "Together",
         "71613.0",
         "0",
         "0",
         "2013-08-21 00:00:00",
         "26",
         "426",
         "49",
         "127",
         "111",
         "21",
         "42",
         "1",
         "8",
         "2",
         "10",
         "4",
         "0",
         "0",
         "0",
         "0",
         "0",
         "0",
         "3",
         "11",
         "0",
         "60",
         "0",
         "776",
         "4356",
         "0",
         "50-59"
        ],
        [
         "3",
         "6182",
         "1984",
         "Graduation",
         "Together",
         "26646.0",
         "1",
         "0",
         "2014-02-10 00:00:00",
         "26",
         "11",
         "4",
         "20",
         "10",
         "3",
         "5",
         "2",
         "2",
         "0",
         "4",
         "6",
         "0",
         "0",
         "0",
         "0",
         "0",
         "0",
         "3",
         "11",
         "0",
         "41",
         "1",
         "53",
         "4183",
         "0",
         "40-49"
        ],
        [
         "4",
         "5324",
         "1981",
         "PhD",
         "Married",
         "58293.0",
         "1",
         "0",
         "2014-01-19 00:00:00",
         "94",
         "173",
         "43",
         "118",
         "46",
         "27",
         "15",
         "5",
         "5",
         "3",
         "6",
         "5",
         "0",
         "0",
         "0",
         "0",
         "0",
         "0",
         "3",
         "11",
         "0",
         "44",
         "1",
         "422",
         "4205",
         "0",
         "40-49"
        ]
       ],
       "shape": {
        "columns": 35,
        "rows": 5
       }
      },
      "text/html": [
       "<div>\n",
       "<style scoped>\n",
       "    .dataframe tbody tr th:only-of-type {\n",
       "        vertical-align: middle;\n",
       "    }\n",
       "\n",
       "    .dataframe tbody tr th {\n",
       "        vertical-align: top;\n",
       "    }\n",
       "\n",
       "    .dataframe thead th {\n",
       "        text-align: right;\n",
       "    }\n",
       "</style>\n",
       "<table border=\"1\" class=\"dataframe\">\n",
       "  <thead>\n",
       "    <tr style=\"text-align: right;\">\n",
       "      <th></th>\n",
       "      <th>ID</th>\n",
       "      <th>Year_Birth</th>\n",
       "      <th>Education</th>\n",
       "      <th>Marital_Status</th>\n",
       "      <th>Income</th>\n",
       "      <th>Kidhome</th>\n",
       "      <th>Teenhome</th>\n",
       "      <th>Dt_Customer</th>\n",
       "      <th>Recency</th>\n",
       "      <th>MntWines</th>\n",
       "      <th>...</th>\n",
       "      <th>Complain</th>\n",
       "      <th>Z_CostContact</th>\n",
       "      <th>Z_Revenue</th>\n",
       "      <th>Response</th>\n",
       "      <th>Age</th>\n",
       "      <th>Total_Children</th>\n",
       "      <th>Total_Spending</th>\n",
       "      <th>Customer_Since</th>\n",
       "      <th>AcceptedAny</th>\n",
       "      <th>AgeGroup</th>\n",
       "    </tr>\n",
       "  </thead>\n",
       "  <tbody>\n",
       "    <tr>\n",
       "      <th>0</th>\n",
       "      <td>5524</td>\n",
       "      <td>1957</td>\n",
       "      <td>Graduation</td>\n",
       "      <td>Single</td>\n",
       "      <td>58138.0</td>\n",
       "      <td>0</td>\n",
       "      <td>0</td>\n",
       "      <td>2012-09-04</td>\n",
       "      <td>58</td>\n",
       "      <td>635</td>\n",
       "      <td>...</td>\n",
       "      <td>0</td>\n",
       "      <td>3</td>\n",
       "      <td>11</td>\n",
       "      <td>1</td>\n",
       "      <td>68</td>\n",
       "      <td>0</td>\n",
       "      <td>1617</td>\n",
       "      <td>4707</td>\n",
       "      <td>1</td>\n",
       "      <td>60-69</td>\n",
       "    </tr>\n",
       "    <tr>\n",
       "      <th>1</th>\n",
       "      <td>2174</td>\n",
       "      <td>1954</td>\n",
       "      <td>Graduation</td>\n",
       "      <td>Single</td>\n",
       "      <td>46344.0</td>\n",
       "      <td>1</td>\n",
       "      <td>1</td>\n",
       "      <td>2014-03-08</td>\n",
       "      <td>38</td>\n",
       "      <td>11</td>\n",
       "      <td>...</td>\n",
       "      <td>0</td>\n",
       "      <td>3</td>\n",
       "      <td>11</td>\n",
       "      <td>0</td>\n",
       "      <td>71</td>\n",
       "      <td>2</td>\n",
       "      <td>27</td>\n",
       "      <td>4157</td>\n",
       "      <td>0</td>\n",
       "      <td>70+</td>\n",
       "    </tr>\n",
       "    <tr>\n",
       "      <th>2</th>\n",
       "      <td>4141</td>\n",
       "      <td>1965</td>\n",
       "      <td>Graduation</td>\n",
       "      <td>Together</td>\n",
       "      <td>71613.0</td>\n",
       "      <td>0</td>\n",
       "      <td>0</td>\n",
       "      <td>2013-08-21</td>\n",
       "      <td>26</td>\n",
       "      <td>426</td>\n",
       "      <td>...</td>\n",
       "      <td>0</td>\n",
       "      <td>3</td>\n",
       "      <td>11</td>\n",
       "      <td>0</td>\n",
       "      <td>60</td>\n",
       "      <td>0</td>\n",
       "      <td>776</td>\n",
       "      <td>4356</td>\n",
       "      <td>0</td>\n",
       "      <td>50-59</td>\n",
       "    </tr>\n",
       "    <tr>\n",
       "      <th>3</th>\n",
       "      <td>6182</td>\n",
       "      <td>1984</td>\n",
       "      <td>Graduation</td>\n",
       "      <td>Together</td>\n",
       "      <td>26646.0</td>\n",
       "      <td>1</td>\n",
       "      <td>0</td>\n",
       "      <td>2014-02-10</td>\n",
       "      <td>26</td>\n",
       "      <td>11</td>\n",
       "      <td>...</td>\n",
       "      <td>0</td>\n",
       "      <td>3</td>\n",
       "      <td>11</td>\n",
       "      <td>0</td>\n",
       "      <td>41</td>\n",
       "      <td>1</td>\n",
       "      <td>53</td>\n",
       "      <td>4183</td>\n",
       "      <td>0</td>\n",
       "      <td>40-49</td>\n",
       "    </tr>\n",
       "    <tr>\n",
       "      <th>4</th>\n",
       "      <td>5324</td>\n",
       "      <td>1981</td>\n",
       "      <td>PhD</td>\n",
       "      <td>Married</td>\n",
       "      <td>58293.0</td>\n",
       "      <td>1</td>\n",
       "      <td>0</td>\n",
       "      <td>2014-01-19</td>\n",
       "      <td>94</td>\n",
       "      <td>173</td>\n",
       "      <td>...</td>\n",
       "      <td>0</td>\n",
       "      <td>3</td>\n",
       "      <td>11</td>\n",
       "      <td>0</td>\n",
       "      <td>44</td>\n",
       "      <td>1</td>\n",
       "      <td>422</td>\n",
       "      <td>4205</td>\n",
       "      <td>0</td>\n",
       "      <td>40-49</td>\n",
       "    </tr>\n",
       "  </tbody>\n",
       "</table>\n",
       "<p>5 rows × 35 columns</p>\n",
       "</div>"
      ],
      "text/plain": [
       "     ID  Year_Birth   Education Marital_Status   Income  Kidhome  Teenhome  \\\n",
       "0  5524        1957  Graduation         Single  58138.0        0         0   \n",
       "1  2174        1954  Graduation         Single  46344.0        1         1   \n",
       "2  4141        1965  Graduation       Together  71613.0        0         0   \n",
       "3  6182        1984  Graduation       Together  26646.0        1         0   \n",
       "4  5324        1981         PhD        Married  58293.0        1         0   \n",
       "\n",
       "  Dt_Customer  Recency  MntWines  ...  Complain  Z_CostContact  Z_Revenue  \\\n",
       "0  2012-09-04       58       635  ...         0              3         11   \n",
       "1  2014-03-08       38        11  ...         0              3         11   \n",
       "2  2013-08-21       26       426  ...         0              3         11   \n",
       "3  2014-02-10       26        11  ...         0              3         11   \n",
       "4  2014-01-19       94       173  ...         0              3         11   \n",
       "\n",
       "   Response  Age  Total_Children  Total_Spending  Customer_Since  AcceptedAny  \\\n",
       "0         1   68               0            1617            4707            1   \n",
       "1         0   71               2              27            4157            0   \n",
       "2         0   60               0             776            4356            0   \n",
       "3         0   41               1              53            4183            0   \n",
       "4         0   44               1             422            4205            0   \n",
       "\n",
       "   AgeGroup  \n",
       "0     60-69  \n",
       "1       70+  \n",
       "2     50-59  \n",
       "3     40-49  \n",
       "4     40-49  \n",
       "\n",
       "[5 rows x 35 columns]"
      ]
     },
     "execution_count": 70,
     "metadata": {},
     "output_type": "execute_result"
    }
   ],
   "source": [
    "df.head()"
   ]
  },
  {
   "cell_type": "code",
   "execution_count": 71,
   "id": "273ac4b2",
   "metadata": {},
   "outputs": [
    {
     "data": {
      "text/plain": [
       "Index(['ID', 'Year_Birth', 'Education', 'Marital_Status', 'Income', 'Kidhome',\n",
       "       'Teenhome', 'Dt_Customer', 'Recency', 'MntWines', 'MntFruits',\n",
       "       'MntMeatProducts', 'MntFishProducts', 'MntSweetProducts',\n",
       "       'MntGoldProds', 'NumDealsPurchases', 'NumWebPurchases',\n",
       "       'NumCatalogPurchases', 'NumStorePurchases', 'NumWebVisitsMonth',\n",
       "       'AcceptedCmp3', 'AcceptedCmp4', 'AcceptedCmp5', 'AcceptedCmp1',\n",
       "       'AcceptedCmp2', 'Complain', 'Z_CostContact', 'Z_Revenue', 'Response',\n",
       "       'Age', 'Total_Children', 'Total_Spending', 'Customer_Since',\n",
       "       'AcceptedAny', 'AgeGroup'],\n",
       "      dtype='object')"
      ]
     },
     "execution_count": 71,
     "metadata": {},
     "output_type": "execute_result"
    }
   ],
   "source": [
    "df.columns"
   ]
  },
  {
   "cell_type": "code",
   "execution_count": null,
   "id": "355ec74e",
   "metadata": {},
   "outputs": [],
   "source": []
  }
 ],
 "metadata": {
  "kernelspec": {
   "display_name": "Python 3",
   "language": "python",
   "name": "python3"
  },
  "language_info": {
   "codemirror_mode": {
    "name": "ipython",
    "version": 3
   },
   "file_extension": ".py",
   "mimetype": "text/x-python",
   "name": "python",
   "nbconvert_exporter": "python",
   "pygments_lexer": "ipython3",
   "version": "3.12.1"
  }
 },
 "nbformat": 4,
 "nbformat_minor": 5
}
